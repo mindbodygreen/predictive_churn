{
  "cells": [
    {
      "cell_type": "code",
      "execution_count": 48,
      "metadata": {
        "name": "ENV DEPENDENCIES"
      },
      "outputs": [],
      "source": [
        "import os\n",
        "import sys\n",
        "import importlib\n",
        "from datetime import date, timedelta, datetime as dt\n",
        "\n",
        "try:\n",
        "    from snowflake.snowpark import Session\n",
        "    session = Session.get_active_session()\n",
        "except Exception:  \n",
        "    sys.path.append(os.path.abspath('/src'))\n",
        "    import src.SnowflakeConnector\n",
        "    importlib.reload(src.SnowflakeConnector)\n",
        "    from src.SnowflakeConnector import create_active_session\n",
        "    session = create_active_session()"
      ]
    },
    {
      "cell_type": "code",
      "execution_count": 64,
      "metadata": {
        "name": "PROGRAM DEPENDENCIES"
      },
      "outputs": [],
      "source": [
        "#Dependencies\n",
        "import yaml\n",
        "from pathlib import Path\n",
        "\n",
        "import pandas as pd\n",
        "import xgboost as xgb\n",
        "from sklearn.model_selection import train_test_split\n",
        "from sklearn.metrics import roc_auc_score, log_loss, recall_score, confusion_matrix, precision_score\n",
        "\n",
        "\n",
        "from snowflake.snowpark.functions import col\n",
        "import snowflake.snowpark.functions as f\n",
        "from snowflake.snowpark.functions import col\n",
        "import snowflake.snowpark.functions as f\n",
        "#from snowflake.ml.registry import Registry\n",
        "\n",
        "import src.model\n",
        "import src.snapshot_split\n",
        "import importlib\n",
        "importlib.reload(src.model)\n",
        "importlib.reload(src.snapshot_split)\n",
        "\n",
        "from src.model import train_churn_model, predict_churn\n",
        "from src.snapshot_split import split_by_snapshot_dmatrix"
      ]
    },
    {
      "cell_type": "code",
      "execution_count": 52,
      "metadata": {
        "name": "DATALOADER"
      },
      "outputs": [
        {
          "name": "stdout",
          "output_type": "stream",
          "text": [
            "----------------------------------------------------------------------------------------------------------------------------------------------------------------------------------------------------------------------------------------------------------------------------------------------------------------------------------------------------------------------------------------------------------------------------------------------------\n",
            "|\"SNAPSHOT_WEEK\"  |\"SUBSCRIPTIONID\"                      |\"EMAIL\"                 |\"CHURN_LABEL_14_DAY\"  |\"LIFETIME_DAY\"  |\"MALES_PER_100_FEMALES\"  |\"HH_MEAN_INCOME\"  |\"HH_MEDIAN_INCOME\"  |\"AGE_MEDIAN\"  |\"AVG_HOUSEHOLD_SIZE\"  |\"MARRIED_HH\"  |\"SINGLE_MALE_HH\"  |\"TOTAL_NET_REVENUE\"  |\"ORDER_COUNT\"  |\"DAYS_SINCE_LAST_ORDER\"  |\"PAID_SOCIAL\"  |\"PAID_SEARCH\"  |\"REFERRAL\"  |\"AFFILIATE\"  |\"ORGANIC_SOCIAL\"  |\"ORGANIC_SEARCH\"  |\"MAIN_SITE\"  |\n",
            "----------------------------------------------------------------------------------------------------------------------------------------------------------------------------------------------------------------------------------------------------------------------------------------------------------------------------------------------------------------------------------------------------------------------------------------------------\n",
            "|2025-04-21       |7be3d90d-3841-4225-83e5-29a8b6aa40aa  |kdpoodry@yahoo.com      |0                     |23              |-1.0                     |-1                |-1                  |-1.0          |-1.00                 |-1.0000000    |-1.0000000        |49.0                 |1              |23                       |0              |0              |0           |0            |0                 |0                 |0            |\n",
            "|2025-04-28       |7be3d90d-3841-4225-83e5-29a8b6aa40aa  |kdpoodry@yahoo.com      |0                     |30              |-1.0                     |-1                |-1                  |-1.0          |-1.00                 |-1.0000000    |-1.0000000        |49.0                 |1              |30                       |0              |0              |0           |0            |0                 |0                 |0            |\n",
            "|2025-05-05       |7be3d90d-3841-4225-83e5-29a8b6aa40aa  |kdpoodry@yahoo.com      |0                     |37              |-1.0                     |-1                |-1                  |-1.0          |-1.00                 |-1.0000000    |-1.0000000        |49.0                 |1              |37                       |0              |0              |0           |0            |0                 |0                 |0            |\n",
            "|2025-05-12       |7be3d90d-3841-4225-83e5-29a8b6aa40aa  |kdpoodry@yahoo.com      |1                     |44              |-1.0                     |-1                |-1                  |-1.0          |-1.00                 |-1.0000000    |-1.0000000        |49.0                 |1              |44                       |0              |0              |0           |0            |0                 |0                 |0            |\n",
            "|2025-05-19       |7be3d90d-3841-4225-83e5-29a8b6aa40aa  |kdpoodry@yahoo.com      |1                     |51              |-1.0                     |-1                |-1                  |-1.0          |-1.00                 |-1.0000000    |-1.0000000        |49.0                 |1              |51                       |0              |0              |0           |0            |0                 |0                 |0            |\n",
            "|2025-06-02       |f996b218-a4cf-490e-8c3b-915f59944773  |kdvrn01@gmail.com       |0                     |7               |91.6                     |123351            |71352               |35.8          |2.44                  |0.5029753     |0.1606652         |313.27               |3              |7                        |0              |0              |1           |0            |0                 |0                 |0            |\n",
            "|2025-04-07       |912bae12-850f-4d4e-a0d4-fbcbcd569935  |kealy.howard@gmail.com  |0                     |85              |92.9                     |137848            |90050               |35.7          |2.25                  |0.4006372     |0.1765700         |436.1                |5              |11                       |0              |0              |0           |0            |0                 |0                 |0            |\n",
            "|2025-04-14       |912bae12-850f-4d4e-a0d4-fbcbcd569935  |kealy.howard@gmail.com  |0                     |92              |92.9                     |137848            |90050               |35.7          |2.25                  |0.4006372     |0.1765700         |485.1                |6              |4                        |0              |0              |0           |0            |0                 |0                 |0            |\n",
            "|2025-04-21       |912bae12-850f-4d4e-a0d4-fbcbcd569935  |kealy.howard@gmail.com  |0                     |99              |92.9                     |137848            |90050               |35.7          |2.25                  |0.4006372     |0.1765700         |485.1                |6              |11                       |0              |0              |0           |0            |0                 |0                 |0            |\n",
            "|2025-04-28       |912bae12-850f-4d4e-a0d4-fbcbcd569935  |kealy.howard@gmail.com  |0                     |106             |92.9                     |137848            |90050               |35.7          |2.25                  |0.4006372     |0.1765700         |485.1                |6              |18                       |0              |0              |0           |0            |0                 |0                 |0            |\n",
            "----------------------------------------------------------------------------------------------------------------------------------------------------------------------------------------------------------------------------------------------------------------------------------------------------------------------------------------------------------------------------------------------------------------------------------------------------\n",
            "\n"
          ]
        }
      ],
      "source": [
        "#dataloader\n",
        "\n",
        "df = session.table(\"analytics.analytics_inference.bimonthly_ml_features\")\n",
        "df.show()"
      ]
    },
    {
      "cell_type": "code",
      "execution_count": 53,
      "metadata": {
        "name": "SNAPSHOT_WEEK DISTRIBUTION"
      },
      "outputs": [
        {
          "name": "stdout",
          "output_type": "stream",
          "text": [
            "-----------------------------\n",
            "|\"SNAPSHOT_WEEK\"  |\"COUNT\"  |\n",
            "-----------------------------\n",
            "|2025-05-12       |13582    |\n",
            "|2025-04-21       |13998    |\n",
            "|2025-05-26       |13453    |\n",
            "|2025-04-07       |14205    |\n",
            "|2025-05-19       |13473    |\n",
            "|2025-04-14       |14139    |\n",
            "|2025-04-28       |13681    |\n",
            "|2025-06-02       |13377    |\n",
            "|2025-05-05       |13682    |\n",
            "-----------------------------\n",
            "\n"
          ]
        }
      ],
      "source": [
        "df.group_by('snapshot_week').count().show()"
      ]
    },
    {
      "cell_type": "code",
      "execution_count": 27,
      "metadata": {
        "name": "CONFIGS"
      },
      "outputs": [],
      "source": [
        "# Assume you're in notebooks/\n",
        "config_path = \"configs/bimonthly.yaml\"\n",
        "\n",
        "with open(config_path, \"r\") as f:\n",
        "    config = yaml.safe_load(f)\n",
        "\n",
        "features = config['features']\n",
        "label = config['label']"
      ]
    },
    {
      "cell_type": "code",
      "execution_count": 60,
      "metadata": {
        "name": "TRAIN TEST SPLIT"
      },
      "outputs": [],
      "source": [
        "#TRAIN TEST SPLIT\n",
        "split_date_train = dt.strptime('2025-05-05', '%Y-%m-%d').date()\n",
        "split_date_val = dt.strptime('2025-05-19', '%Y-%m-%d').date()\n",
        "\n",
        "df_features = df.to_pandas()\n",
        "\n",
        "dtrain, dval, dtest, df_test = split_by_snapshot_dmatrix(df_features, split_date_train, split_date_val, train=True)"
      ]
    },
    {
      "cell_type": "code",
      "execution_count": 61,
      "metadata": {
        "name": "TRAIN MODEL"
      },
      "outputs": [
        {
          "data": {
            "text/html": [
              "<div>\n",
              "<style scoped>\n",
              "    .dataframe tbody tr th:only-of-type {\n",
              "        vertical-align: middle;\n",
              "    }\n",
              "\n",
              "    .dataframe tbody tr th {\n",
              "        vertical-align: top;\n",
              "    }\n",
              "\n",
              "    .dataframe thead th {\n",
              "        text-align: right;\n",
              "    }\n",
              "</style>\n",
              "<table border=\"1\" class=\"dataframe\">\n",
              "  <thead>\n",
              "    <tr style=\"text-align: right;\">\n",
              "      <th></th>\n",
              "      <th>PREDICTED_PROBABILITY</th>\n",
              "      <th>PREDICTED_CLASS</th>\n",
              "      <th>ACTUAL</th>\n",
              "    </tr>\n",
              "  </thead>\n",
              "  <tbody>\n",
              "    <tr>\n",
              "      <th>0</th>\n",
              "      <td>0.000304</td>\n",
              "      <td>0</td>\n",
              "      <td>0</td>\n",
              "    </tr>\n",
              "    <tr>\n",
              "      <th>1</th>\n",
              "      <td>0.000003</td>\n",
              "      <td>0</td>\n",
              "      <td>0</td>\n",
              "    </tr>\n",
              "    <tr>\n",
              "      <th>2</th>\n",
              "      <td>0.000003</td>\n",
              "      <td>0</td>\n",
              "      <td>0</td>\n",
              "    </tr>\n",
              "    <tr>\n",
              "      <th>3</th>\n",
              "      <td>0.000003</td>\n",
              "      <td>0</td>\n",
              "      <td>0</td>\n",
              "    </tr>\n",
              "    <tr>\n",
              "      <th>4</th>\n",
              "      <td>0.000003</td>\n",
              "      <td>0</td>\n",
              "      <td>0</td>\n",
              "    </tr>\n",
              "  </tbody>\n",
              "</table>\n",
              "</div>"
            ],
            "text/plain": [
              "   PREDICTED_PROBABILITY  PREDICTED_CLASS  ACTUAL\n",
              "0               0.000304                0       0\n",
              "1               0.000003                0       0\n",
              "2               0.000003                0       0\n",
              "3               0.000003                0       0\n",
              "4               0.000003                0       0"
            ]
          },
          "execution_count": 61,
          "metadata": {},
          "output_type": "execute_result"
        }
      ],
      "source": [
        "#TRAIN MODEL\n",
        "test_model = train_churn_model(dtrain, dval)\n",
        "eval_df = predict_churn(test_model, dtest)\n",
        "\n",
        "\n",
        "eval_df[\"ACTUAL\"] = df_test[label].values  # Add actual labels\n",
        "eval_df.head()"
      ]
    },
    {
      "cell_type": "code",
      "execution_count": 62,
      "metadata": {
        "name": "EVALUATE MODEL"
      },
      "outputs": [
        {
          "data": {
            "text/html": [
              "<div>\n",
              "<style scoped>\n",
              "    .dataframe tbody tr th:only-of-type {\n",
              "        vertical-align: middle;\n",
              "    }\n",
              "\n",
              "    .dataframe tbody tr th {\n",
              "        vertical-align: top;\n",
              "    }\n",
              "\n",
              "    .dataframe thead th {\n",
              "        text-align: right;\n",
              "    }\n",
              "</style>\n",
              "<table border=\"1\" class=\"dataframe\">\n",
              "  <thead>\n",
              "    <tr style=\"text-align: right;\">\n",
              "      <th></th>\n",
              "      <th>Predicted Non-Churn (0)</th>\n",
              "      <th>Predicted Churn (1)</th>\n",
              "    </tr>\n",
              "  </thead>\n",
              "  <tbody>\n",
              "    <tr>\n",
              "      <th>Actual Non-Churn (0)</th>\n",
              "      <td>12016</td>\n",
              "      <td>750</td>\n",
              "    </tr>\n",
              "    <tr>\n",
              "      <th>Actual Churn (1)</th>\n",
              "      <td>194</td>\n",
              "      <td>513</td>\n",
              "    </tr>\n",
              "  </tbody>\n",
              "</table>\n",
              "</div>"
            ],
            "text/plain": [
              "                      Predicted Non-Churn (0)  Predicted Churn (1)\n",
              "Actual Non-Churn (0)                    12016                  750\n",
              "Actual Churn (1)                          194                  513"
            ]
          },
          "execution_count": 62,
          "metadata": {},
          "output_type": "execute_result"
        }
      ],
      "source": [
        "#EVALUATE MODEL\n",
        "\n",
        "cm = confusion_matrix(eval_df[\"ACTUAL\"], eval_df[\"PREDICTED_CLASS\"])\n",
        "\n",
        "# Create a labeled DataFrame for the confusion matrix\n",
        "cm_df = pd.DataFrame(cm, \n",
        "                     index=[\"Actual Non-Churn (0)\", \"Actual Churn (1)\"], \n",
        "                     columns=[\"Predicted Non-Churn (0)\", \"Predicted Churn (1)\"])\n",
        "\n",
        "cm_df\n",
        "\n",
        "\n"
      ]
    },
    {
      "cell_type": "code",
      "execution_count": 65,
      "metadata": {
        "name": "PRECISION & RECALL"
      },
      "outputs": [
        {
          "name": "stdout",
          "output_type": "stream",
          "text": [
            "Precision : 0.40617577197149646\n",
            "Recall : 0.7256011315417256\n",
            "Positive/All : 0.09374304163883322\n"
          ]
        }
      ],
      "source": [
        "#PRECISION & RECALL\n",
        "\n",
        "\n",
        "precision = precision_score(eval_df[\"ACTUAL\"], eval_df[\"PREDICTED_CLASS\"])\n",
        "recall = recall_score(eval_df[\"ACTUAL\"], eval_df[\"PREDICTED_CLASS\"])\n",
        "\n",
        "pos_neg_ratio = eval_df[\"PREDICTED_CLASS\"].sum() / (len(eval_df[\"PREDICTED_CLASS\"]))\n",
        "\n",
        "print(f\"Precision : {precision}\")\n",
        "print(f\"Recall : {recall}\")\n",
        "print(f\"Positive/All : {pos_neg_ratio}\")"
      ]
    },
    {
      "cell_type": "code",
      "execution_count": null,
      "metadata": {
        "name": "PLOTLY HISTOGRAM"
      },
      "outputs": [],
      "source": [
        "#PLOTLY HISTOGRAM\n",
        "fig1 = px.histogram(eval_df, x='PREDICTED_PROBABILITY', nbins=10, text_auto=True)\n",
        "fig = px.histogram(eval_df[eval_df[\"PREDICTED_CLASS\"] == 1], x='PREDICTED_PROBABILITY', nbins=50, text_auto=True)\n",
        "\n",
        "st.title('Distribution of Chuned Predictions')\n",
        "st.plotly_chart(fig, use_container_width=True)\n",
        "st.title('Distribution of All Predictions')\n",
        "st.plotly_chart(fig1, use_container_width=True)"
      ]
    },
    {
      "cell_type": "code",
      "execution_count": 67,
      "metadata": {
        "name": "TRAIN TEST SPLIT FOR INFERENCE"
      },
      "outputs": [],
      "source": [
        "#TRAIN TEST SPLIT FOR INFERENCE\n",
        "\n",
        "split_date_train = dt.strptime('2025-05-19', '%Y-%m-%d').date()\n",
        "split_date_val = dt.strptime('2025-06-02', '%Y-%m-%d').date()\n",
        "dtrain, dval, dtest, df_test = split_by_snapshot_dmatrix(df_features, split_date_train, split_date_val)"
      ]
    },
    {
      "cell_type": "code",
      "execution_count": 68,
      "metadata": {
        "name": "INFERENCE MODEL TRAINING"
      },
      "outputs": [
        {
          "data": {
            "text/html": [
              "<div>\n",
              "<style scoped>\n",
              "    .dataframe tbody tr th:only-of-type {\n",
              "        vertical-align: middle;\n",
              "    }\n",
              "\n",
              "    .dataframe tbody tr th {\n",
              "        vertical-align: top;\n",
              "    }\n",
              "\n",
              "    .dataframe thead th {\n",
              "        text-align: right;\n",
              "    }\n",
              "</style>\n",
              "<table border=\"1\" class=\"dataframe\">\n",
              "  <thead>\n",
              "    <tr style=\"text-align: right;\">\n",
              "      <th></th>\n",
              "      <th>SNAPSHOT_WEEK</th>\n",
              "      <th>SUBSCRIPTIONID</th>\n",
              "      <th>EMAIL</th>\n",
              "      <th>CHURN_LABEL_14_DAY</th>\n",
              "      <th>LIFETIME_DAY</th>\n",
              "      <th>MALES_PER_100_FEMALES</th>\n",
              "      <th>HH_MEAN_INCOME</th>\n",
              "      <th>HH_MEDIAN_INCOME</th>\n",
              "      <th>AGE_MEDIAN</th>\n",
              "      <th>AVG_HOUSEHOLD_SIZE</th>\n",
              "      <th>...</th>\n",
              "      <th>DAYS_SINCE_LAST_ORDER</th>\n",
              "      <th>PAID_SOCIAL</th>\n",
              "      <th>PAID_SEARCH</th>\n",
              "      <th>REFERRAL</th>\n",
              "      <th>AFFILIATE</th>\n",
              "      <th>ORGANIC_SOCIAL</th>\n",
              "      <th>ORGANIC_SEARCH</th>\n",
              "      <th>MAIN_SITE</th>\n",
              "      <th>PREDICTED_PROBABILITY</th>\n",
              "      <th>PREDICTED_CLASS</th>\n",
              "    </tr>\n",
              "  </thead>\n",
              "  <tbody>\n",
              "    <tr>\n",
              "      <th>123539</th>\n",
              "      <td>2025-06-02</td>\n",
              "      <td>a1142131-6c4a-43fe-a4e3-c21f8bfab580</td>\n",
              "      <td>priehmann@yahoo.com</td>\n",
              "      <td>0</td>\n",
              "      <td>330</td>\n",
              "      <td>96.3</td>\n",
              "      <td>80177</td>\n",
              "      <td>66109</td>\n",
              "      <td>33.9</td>\n",
              "      <td>2.57</td>\n",
              "      <td>...</td>\n",
              "      <td>29</td>\n",
              "      <td>0</td>\n",
              "      <td>0</td>\n",
              "      <td>0</td>\n",
              "      <td>0</td>\n",
              "      <td>0</td>\n",
              "      <td>0</td>\n",
              "      <td>0</td>\n",
              "      <td>0.000447</td>\n",
              "      <td>0</td>\n",
              "    </tr>\n",
              "    <tr>\n",
              "      <th>123548</th>\n",
              "      <td>2025-06-02</td>\n",
              "      <td>30e28af1-fdfa-43e0-8fc0-72b62f2c0c00</td>\n",
              "      <td>princeamanda3@yahoo.com</td>\n",
              "      <td>0</td>\n",
              "      <td>58</td>\n",
              "      <td>-1.0</td>\n",
              "      <td>-1</td>\n",
              "      <td>-1</td>\n",
              "      <td>-1.0</td>\n",
              "      <td>-1.00</td>\n",
              "      <td>...</td>\n",
              "      <td>58</td>\n",
              "      <td>0</td>\n",
              "      <td>1</td>\n",
              "      <td>0</td>\n",
              "      <td>0</td>\n",
              "      <td>0</td>\n",
              "      <td>0</td>\n",
              "      <td>0</td>\n",
              "      <td>0.981496</td>\n",
              "      <td>1</td>\n",
              "    </tr>\n",
              "    <tr>\n",
              "      <th>123557</th>\n",
              "      <td>2025-06-02</td>\n",
              "      <td>f4f47758-eedd-43fb-8fe7-ae5058f688c1</td>\n",
              "      <td>princessd1214@gmail.com</td>\n",
              "      <td>0</td>\n",
              "      <td>106</td>\n",
              "      <td>107.1</td>\n",
              "      <td>120376</td>\n",
              "      <td>102984</td>\n",
              "      <td>41.8</td>\n",
              "      <td>2.63</td>\n",
              "      <td>...</td>\n",
              "      <td>45</td>\n",
              "      <td>0</td>\n",
              "      <td>0</td>\n",
              "      <td>0</td>\n",
              "      <td>0</td>\n",
              "      <td>0</td>\n",
              "      <td>0</td>\n",
              "      <td>0</td>\n",
              "      <td>0.000395</td>\n",
              "      <td>0</td>\n",
              "    </tr>\n",
              "    <tr>\n",
              "      <th>123574</th>\n",
              "      <td>2025-06-02</td>\n",
              "      <td>711a7dfd-a137-4b2d-8885-dbde10dffda6</td>\n",
              "      <td>princesswarren@gmail.com</td>\n",
              "      <td>0</td>\n",
              "      <td>321</td>\n",
              "      <td>108.7</td>\n",
              "      <td>177542</td>\n",
              "      <td>135081</td>\n",
              "      <td>41.8</td>\n",
              "      <td>2.54</td>\n",
              "      <td>...</td>\n",
              "      <td>5</td>\n",
              "      <td>0</td>\n",
              "      <td>0</td>\n",
              "      <td>0</td>\n",
              "      <td>0</td>\n",
              "      <td>0</td>\n",
              "      <td>0</td>\n",
              "      <td>0</td>\n",
              "      <td>0.000180</td>\n",
              "      <td>0</td>\n",
              "    </tr>\n",
              "    <tr>\n",
              "      <th>123589</th>\n",
              "      <td>2025-06-02</td>\n",
              "      <td>6679a1a9-f7a0-4532-a4cc-6c9504ec2c7b</td>\n",
              "      <td>priscila.gb@gmail.com</td>\n",
              "      <td>0</td>\n",
              "      <td>181</td>\n",
              "      <td>-1.0</td>\n",
              "      <td>-1</td>\n",
              "      <td>-1</td>\n",
              "      <td>-1.0</td>\n",
              "      <td>-1.00</td>\n",
              "      <td>...</td>\n",
              "      <td>30</td>\n",
              "      <td>0</td>\n",
              "      <td>0</td>\n",
              "      <td>0</td>\n",
              "      <td>0</td>\n",
              "      <td>0</td>\n",
              "      <td>0</td>\n",
              "      <td>0</td>\n",
              "      <td>0.358969</td>\n",
              "      <td>0</td>\n",
              "    </tr>\n",
              "  </tbody>\n",
              "</table>\n",
              "<p>5 rows × 24 columns</p>\n",
              "</div>"
            ],
            "text/plain": [
              "       SNAPSHOT_WEEK                        SUBSCRIPTIONID  \\\n",
              "123539    2025-06-02  a1142131-6c4a-43fe-a4e3-c21f8bfab580   \n",
              "123548    2025-06-02  30e28af1-fdfa-43e0-8fc0-72b62f2c0c00   \n",
              "123557    2025-06-02  f4f47758-eedd-43fb-8fe7-ae5058f688c1   \n",
              "123574    2025-06-02  711a7dfd-a137-4b2d-8885-dbde10dffda6   \n",
              "123589    2025-06-02  6679a1a9-f7a0-4532-a4cc-6c9504ec2c7b   \n",
              "\n",
              "                           EMAIL  CHURN_LABEL_14_DAY  LIFETIME_DAY  \\\n",
              "123539       priehmann@yahoo.com                   0           330   \n",
              "123548   princeamanda3@yahoo.com                   0            58   \n",
              "123557   princessd1214@gmail.com                   0           106   \n",
              "123574  princesswarren@gmail.com                   0           321   \n",
              "123589     priscila.gb@gmail.com                   0           181   \n",
              "\n",
              "        MALES_PER_100_FEMALES  HH_MEAN_INCOME  HH_MEDIAN_INCOME  AGE_MEDIAN  \\\n",
              "123539                   96.3           80177             66109        33.9   \n",
              "123548                   -1.0              -1                -1        -1.0   \n",
              "123557                  107.1          120376            102984        41.8   \n",
              "123574                  108.7          177542            135081        41.8   \n",
              "123589                   -1.0              -1                -1        -1.0   \n",
              "\n",
              "        AVG_HOUSEHOLD_SIZE  ...  DAYS_SINCE_LAST_ORDER  PAID_SOCIAL  \\\n",
              "123539                2.57  ...                     29            0   \n",
              "123548               -1.00  ...                     58            0   \n",
              "123557                2.63  ...                     45            0   \n",
              "123574                2.54  ...                      5            0   \n",
              "123589               -1.00  ...                     30            0   \n",
              "\n",
              "        PAID_SEARCH  REFERRAL  AFFILIATE  ORGANIC_SOCIAL  ORGANIC_SEARCH  \\\n",
              "123539            0         0          0               0               0   \n",
              "123548            1         0          0               0               0   \n",
              "123557            0         0          0               0               0   \n",
              "123574            0         0          0               0               0   \n",
              "123589            0         0          0               0               0   \n",
              "\n",
              "        MAIN_SITE  PREDICTED_PROBABILITY  PREDICTED_CLASS  \n",
              "123539          0               0.000447                0  \n",
              "123548          0               0.981496                1  \n",
              "123557          0               0.000395                0  \n",
              "123574          0               0.000180                0  \n",
              "123589          0               0.358969                0  \n",
              "\n",
              "[5 rows x 24 columns]"
            ]
          },
          "execution_count": 68,
          "metadata": {},
          "output_type": "execute_result"
        }
      ],
      "source": [
        "#INFERENCE MODEL TRAINING\n",
        "\n",
        "infer_model = train_churn_model(dtrain, dval)\n",
        "prob_df = predict_churn(test_model, dtest)\n",
        "\n",
        "pred_df = df_test.copy()\n",
        "pred_df[\"PREDICTED_PROBABILITY\"] = prob_df[\"PREDICTED_PROBABILITY\"].values\n",
        "pred_df[\"PREDICTED_CLASS\"] = prob_df[\"PREDICTED_CLASS\"].values\n",
        "\n",
        "pred_df.tail()"
      ]
    },
    {
      "cell_type": "code",
      "execution_count": null,
      "metadata": {
        "name": "SNOWFLAKE EXPORT CREATE CAMPAIGN TABLE"
      },
      "outputs": [],
      "source": [
        "#SNOWFLAKE EXPORT CREATE CAMPAIGN TABLE\n",
        "\n",
        "campaign_df = pred_df.copy()\n",
        "campaign_df = campaign_df[campaign_df[\"PREDICTED_PROBABILITY\"] > 0.7]\n",
        "inference_date =dt.strptime('2025-06-09', '%Y-%m-%d').date()\n",
        "campaign_df[\"AB_GROUP\"] = np.random.choice([\"A - Send Email\", \"B - Don't Send Email\"], size=len(campaign_df))\n",
        "\n",
        "table_name = \"PREDICTIVE.CHURN_PREDICTIONS.BIMONTHLY_\"+inference_date.strftime('%b_%d').upper() \n",
        "print(table_name)\n",
        "\n",
        "campaign_snowpark_df = session.createDataFrame(data=campaign_df)\n",
        "campaign_snowpark_df.write.save_as_table(table_name, mode=\"overwrite\")"
      ]
    },
    {
      "cell_type": "code",
      "execution_count": 69,
      "metadata": {
        "name": "PREDICTIONS EVALUATION"
      },
      "outputs": [
        {
          "name": "stdout",
          "output_type": "stream",
          "text": [
            "Positives : 807\n",
            "Positive/All : 6.0%\n",
            "Normal Positive/All : 5.0%\n"
          ]
        }
      ],
      "source": [
        "#PREDICTIONS EVALUATION\n",
        "positives = pred_df[\"PREDICTED_CLASS\"].sum()\n",
        "all = len(pred_df[\"PREDICTED_CLASS\"])\n",
        "\n",
        "pos_neg_ratio = positives / all\n",
        "\n",
        "# print(f\"Precision : {precision}\")\n",
        "print(f\"Positives : {positives}\")\n",
        "print(f\"Positive/All : {round(pos_neg_ratio,3) * 100}%\")\n",
        "print(f\"Normal Positive/All : {round(700/all,2) * 100}%\")"
      ]
    },
    {
      "cell_type": "code",
      "execution_count": null,
      "metadata": {
        "name": "INFERENCE PREDICTIONS HISTOGRAM"
      },
      "outputs": [],
      "source": [
        "#INFERENCE PREDICTIONS HISTOGRAM\n",
        "campaign_df['CHURN_PROBABILITY_PERC'] = campaign_df['PREDICTED_PROBABILITY']#*100\n",
        "#pred_df['CHURN_PROBABILITY_PERC'] = pred_df['PREDICTED_PROBABILITY']*100\n",
        "\n",
        "fig = px.histogram(campaign_df, x='CHURN_PROBABILITY_PERC', nbins=10, text_auto=True)\n",
        "st.plotly_chart(fig, use_container_width=True)\n",
        "\n",
        "\n",
        "fig1 = px.histogram(pred_df, x='PREDICTED_PROBABILITY', nbins=10, text_auto=True)\n",
        "st.plotly_chart(fig1, use_container_width=True)"
      ]
    },
    {
      "cell_type": "code",
      "execution_count": null,
      "metadata": {
        "name": "INFERENCE PREDICTIONS BINNED HISTOGRAM"
      },
      "outputs": [],
      "source": [
        "#INFERENCE PREDICTIONS BINNED HISTOGRAM\n",
        "campaign_df['PREDICTED_PROBABILITY'] = pd.cut(\n",
        "    campaign_df['PREDICTED_PROBABILITY'] * 100,\n",
        "    bins=[0,10,20,30,40,50,60,70,80,90,100],\n",
        "    right=False,\n",
        "    labels=[f\"{i}-{i+10}\" for i in range(0, 100, 10)]\n",
        ")\n",
        "\n",
        "fig = px.histogram(campaign_df, x='PREDICTED_PROBABILITY', text_auto=True, category_orders={\"PREDICTED_PROBABILITY\": [f\"{i}-{i+10}\" for i in range(0, 100, 10)]})\n",
        "st.plotly_chart(fig, use_container_width=True)"
      ]
    }
  ],
  "metadata": {
    "kernelspec": {
      "display_name": ".venv",
      "language": "python",
      "name": "python3"
    },
    "language_info": {
      "codemirror_mode": {
        "name": "ipython",
        "version": 3
      },
      "file_extension": ".py",
      "mimetype": "text/x-python",
      "name": "python",
      "nbconvert_exporter": "python",
      "pygments_lexer": "ipython3",
      "version": "3.9.6"
    }
  },
  "nbformat": 4,
  "nbformat_minor": 2
}
