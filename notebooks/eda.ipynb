{
 "cells": [
  {
   "cell_type": "code",
   "execution_count": 4,
   "id": "ab90a243",
   "metadata": {},
   "outputs": [],
   "source": [
    "\n",
    "import pandas as pd\n",
    "import numpy as np"
   ]
  },
  {
   "cell_type": "code",
   "execution_count": 5,
   "id": "989ddae8",
   "metadata": {},
   "outputs": [
    {
     "name": "stdout",
     "output_type": "stream",
     "text": [
      "E-commerce Customer Data Sample:\n",
      "\n",
      "Shape: (10, 5)\n",
      "\n",
      "DataFrame:\n",
      "   customer_id  total_purchases  avg_order_value  days_since_last_purchase  \\\n",
      "0         1001               39           256.66                        58   \n",
      "1         1002               29           200.17                        22   \n",
      "2         1003               15           114.29                        89   \n",
      "3         1004               43           342.90                        49   \n",
      "4         1005                8            75.39                        91   \n",
      "5         1006               21           374.90                        59   \n",
      "6         1007               39           472.35                        42   \n",
      "7         1008               19            50.35                        92   \n",
      "8         1009               23           496.50                        60   \n",
      "9         1010               11           327.87                        80   \n",
      "\n",
      "  customer_segment  \n",
      "0             Gold  \n",
      "1           Silver  \n",
      "2           Silver  \n",
      "3             Gold  \n",
      "4           Silver  \n",
      "5             Gold  \n",
      "6         Platinum  \n",
      "7             Gold  \n",
      "8         Platinum  \n",
      "9         Platinum  \n"
     ]
    }
   ],
   "source": [
    "import pandas as pd\n",
    "import numpy as np\n",
    "\n",
    "# Set random seed for reproducibility\n",
    "np.random.seed(42)\n",
    "\n",
    "# Create sample data\n",
    "data = {\n",
    "    'customer_id': range(1001, 1011),\n",
    "    'total_purchases': np.random.randint(1, 50, 10),\n",
    "    'avg_order_value': np.random.uniform(50, 500, 10).round(2),\n",
    "    'days_since_last_purchase': np.random.randint(1, 100, 10),\n",
    "    'customer_segment': np.random.choice(['Bronze', 'Silver', 'Gold', 'Platinum'], 10)\n",
    "}\n",
    "\n",
    "# Create DataFrame\n",
    "df = pd.DataFrame(data)\n",
    "print(\"E-commerce Customer Data Sample:\")\n",
    "print(\"\\nShape:\", df.shape)\n",
    "print(\"\\nDataFrame:\")\n",
    "print(df)\n"
   ]
  }
 ],
 "metadata": {
  "kernelspec": {
   "display_name": ".venv",
   "language": "python",
   "name": "python3"
  },
  "language_info": {
   "codemirror_mode": {
    "name": "ipython",
    "version": 3
   },
   "file_extension": ".py",
   "mimetype": "text/x-python",
   "name": "python",
   "nbconvert_exporter": "python",
   "pygments_lexer": "ipython3",
   "version": "3.9.6"
  }
 },
 "nbformat": 4,
 "nbformat_minor": 5
}
