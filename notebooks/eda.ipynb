{
 "cells": [
  {
   "cell_type": "code",
   "execution_count": 3,
   "id": "ab90a243",
   "metadata": {},
   "outputs": [],
   "source": [
    "\n",
    "import pandas as pd\n",
    "\n",
    "import snowflake.connector\n",
    "import pandas as pd"
   ]
  },
  {
   "cell_type": "code",
   "execution_count": 16,
   "id": "f230e57d",
   "metadata": {},
   "outputs": [
    {
     "ename": "ModuleNotFoundError",
     "evalue": "No module named 'pandas'",
     "output_type": "error",
     "traceback": [
      "\u001b[0;31m---------------------------------------------------------------------------\u001b[0m",
      "\u001b[0;31mModuleNotFoundError\u001b[0m                       Traceback (most recent call last)",
      "Cell \u001b[0;32mIn[16], line 1\u001b[0m\n\u001b[0;32m----> 1\u001b[0m \u001b[38;5;28;01mimport\u001b[39;00m\u001b[38;5;250m \u001b[39m\u001b[38;5;21;01mpandas\u001b[39;00m\u001b[38;5;250m \u001b[39m\u001b[38;5;28;01mas\u001b[39;00m\u001b[38;5;250m \u001b[39m\u001b[38;5;21;01mpd\u001b[39;00m\n",
      "\u001b[0;31mModuleNotFoundError\u001b[0m: No module named 'pandas'"
     ]
    }
   ],
   "source": [
    "import pandas as pd\n",
    "\n"
   ]
  },
  {
   "cell_type": "code",
   "execution_count": 5,
   "id": "38229b07",
   "metadata": {},
   "outputs": [
    {
     "name": "stdout",
     "output_type": "stream",
     "text": [
      "List of squares: [0, 1, 4, 9, 16, 25, 36, 49, 64, 81]\n",
      "Even numbers: [0, 2, 4, 6, 8]\n",
      "Number pairs: [(0, 0), (1, 1), (2, 4), (3, 9), (4, 16)]\n"
     ]
    }
   ],
   "source": [
    "# Create a list of squares for numbers 0-9\n",
    "numbers = [x * x for x in range(10)]\n",
    "print(\"List of squares:\", numbers)\n",
    "\n",
    "# Create a list of even numbers from 0-9\n",
    "even_numbers = [x for x in range(10) if x % 2 == 0]\n",
    "print(\"Even numbers:\", even_numbers)\n",
    "\n",
    "# Create a list of (number, square) tuples\n",
    "number_pairs = [(x, x**2) for x in range(5)]\n",
    "print(\"Number pairs:\", number_pairs)\n"
   ]
  },
  {
   "cell_type": "code",
   "execution_count": 7,
   "id": "198af46b",
   "metadata": {},
   "outputs": [
    {
     "name": "stdout",
     "output_type": "stream",
     "text": [
      "❌ Pandas is NOT available. You need to install it using:\n",
      "pip install pandas\n"
     ]
    }
   ],
   "source": [
    "try:\n",
    "    import pandas as pd\n",
    "    print(\"✅ Pandas is available!\")\n",
    "    print(f\"Pandas version: {pd.__version__}\")\n",
    "except ImportError:\n",
    "    print(\"❌ Pandas is NOT available. You need to install it using:\")\n",
    "    print(\"pip install pandas\")\n"
   ]
  },
  {
   "cell_type": "code",
   "execution_count": 8,
   "id": "f08de67a",
   "metadata": {},
   "outputs": [
    {
     "name": "stdout",
     "output_type": "stream",
     "text": [
      "Python executable path: /Users/oceansxyz/predictive_churn/.venv/bin/python\n",
      "\n",
      "Python version: 3.9.6 (default, Mar 12 2025, 20:22:46) \n",
      "[Clang 17.0.0 (clang-1700.0.13.3)]\n",
      "\n",
      "Python path (where Python looks for modules):\n",
      "- /Library/Developer/CommandLineTools/Library/Frameworks/Python3.framework/Versions/3.9/lib/python39.zip\n",
      "- /Library/Developer/CommandLineTools/Library/Frameworks/Python3.framework/Versions/3.9/lib/python3.9\n",
      "- /Library/Developer/CommandLineTools/Library/Frameworks/Python3.framework/Versions/3.9/lib/python3.9/lib-dynload\n",
      "- \n",
      "- /Users/oceansxyz/predictive_churn/.venv/lib/python3.9/site-packages\n",
      "\n",
      "Current working directory: /Users/oceansxyz/predictive_churn/notebooks\n",
      "\n",
      "Environment variables:\n",
      "VIRTUAL_ENV = /Users/oceansxyz/predictive_churn/.venv\n"
     ]
    }
   ],
   "source": [
    "import sys\n",
    "import os\n",
    "\n",
    "print(\"Python executable path:\", sys.executable)\n",
    "print(\"\\nPython version:\", sys.version)\n",
    "print(\"\\nPython path (where Python looks for modules):\")\n",
    "for path in sys.path:\n",
    "    print(f\"- {path}\")\n",
    "\n",
    "print(\"\\nCurrent working directory:\", os.getcwd())\n",
    "print(\"\\nEnvironment variables:\")\n",
    "print(\"VIRTUAL_ENV =\", os.environ.get('VIRTUAL_ENV', 'Not set'))\n"
   ]
  },
  {
   "cell_type": "code",
   "execution_count": 9,
   "id": "fd2af995",
   "metadata": {},
   "outputs": [
    {
     "name": "stdout",
     "output_type": "stream",
     "text": [
      "Currently installed packages:\n",
      "Package            Version\n",
      "------------------ -----------\n",
      "appnope            0.1.4\n",
      "asttokens          3.0.0\n",
      "comm               0.2.2\n",
      "debugpy            1.8.14\n",
      "decorator          5.2.1\n",
      "exceptiongroup     1.3.0\n",
      "executing          2.2.0\n",
      "importlib_metadata 8.7.0\n",
      "ipykernel          6.29.5\n",
      "ipython            8.18.1\n",
      "jedi               0.19.2\n",
      "jupyter_client     8.6.3\n",
      "jupyter_core       5.8.1\n",
      "matplotlib-inline  0.1.7\n",
      "nest-asyncio       1.6.0\n",
      "packaging          25.0\n",
      "parso              0.8.4\n",
      "pexpect            4.9.0\n",
      "pip                25.1.1\n",
      "platformdirs       4.3.8\n",
      "prompt_toolkit     3.0.51\n",
      "psutil             7.0.0\n",
      "ptyprocess         0.7.0\n",
      "pure_eval          0.2.3\n",
      "Pygments           2.19.1\n",
      "python-dateutil    2.9.0.post0\n",
      "pyzmq              26.4.0\n",
      "setuptools         58.0.4\n",
      "six                1.17.0\n",
      "stack-data         0.6.3\n",
      "tornado            6.5.1\n",
      "traitlets          5.14.3\n",
      "typing_extensions  4.14.0\n",
      "wcwidth            0.2.13\n",
      "zipp               3.22.0\n",
      "\n"
     ]
    }
   ],
   "source": [
    "import subprocess\n",
    "try:\n",
    "    result = subprocess.run([sys.executable, '-m', 'pip', 'list'], \n",
    "                          capture_output=True, text=True)\n",
    "    print(\"Currently installed packages:\")\n",
    "    print(result.stdout)\n",
    "except Exception as e:\n",
    "    print(\"Error checking installed packages:\", e)\n"
   ]
  },
  {
   "cell_type": "code",
   "execution_count": null,
   "id": "74a56acd",
   "metadata": {},
   "outputs": [],
   "source": [
    "print(\"Installing pandas...\")\n",
    "!{sys.executable} -m pip install pandas\n",
    "print(\"\\nVerifying installation...\")\n",
    "import pandas as pd\n",
    "print(f\"Pandas successfully installed! Version: {pd.__version__}\")\n"
   ]
  }
 ],
 "metadata": {
  "kernelspec": {
   "display_name": ".venv",
   "language": "python",
   "name": "python3"
  },
  "language_info": {
   "codemirror_mode": {
    "name": "ipython",
    "version": 3
   },
   "file_extension": ".py",
   "mimetype": "text/x-python",
   "name": "python",
   "nbconvert_exporter": "python",
   "pygments_lexer": "ipython3",
   "version": "3.9.6"
  }
 },
 "nbformat": 4,
 "nbformat_minor": 5
}
