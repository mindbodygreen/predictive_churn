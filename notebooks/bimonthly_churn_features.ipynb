{
  "cells": [
    {
      "cell_type": "code",
      "execution_count": 78,
      "metadata": {},
      "outputs": [],
      "source": [
        "from snowflake.snowpark import Session\n",
        "\n",
        "\n",
        "connection_parameters = {\n",
        "\n",
        "     \"account\":\"zfb96811.us-east-1\", \n",
        "     \"role\":\"ACCOUNTADMIN\", \n",
        "     \"database\":\"ANALYTICS\", \n",
        "     \"schema\":\"PUBLIC\",\n",
        "     \"warehouse\":\"COMPUTE_WH\",\n",
        "    \"user\": \"IMAHAKUMARA\",\n",
        "    \"password\":\"gEfnun-dewnin-0nadpy\"    \n",
        "}\n",
        "\n",
        "session = Session.builder.configs(connection_parameters).create()"
      ]
    },
    {
      "cell_type": "code",
      "execution_count": 79,
      "metadata": {},
      "outputs": [],
      "source": [
        "# import os\n",
        "# import yaml\n",
        "# from pathlib import Path\n",
        "# from snowflake.snowpark import Session\n",
        "\n",
        "# def load_config():\n",
        "#     config_path = Path('../configs/snowflake.yml')\n",
        "#     with open(config_path) as f:\n",
        "#         config = yaml.safe_load(f)\n",
        "    \n",
        "#     # Replace environment variables\n",
        "#     sf_config = config['snowflake']\n",
        "#     sf_config['user'] = os.environ.get('SNOWFLAKE_USER', sf_config['user'])\n",
        "#     sf_config['password'] = os.environ.get('SNOWFLAKE_PASSWORD', sf_config['password'])\n",
        "    \n",
        "#     return sf_config\n",
        "\n",
        "# # Create Snowflake session\n",
        "# snowflake_config = load_config()\n",
        "# session = Session.builder.configs(snowflake_config).create()\n"
      ]
    },
    {
      "cell_type": "code",
      "execution_count": 80,
      "metadata": {},
      "outputs": [],
      "source": [
        "# dependencies\n",
        "import pandas as pd\n",
        "from datetime import date, timedelta\n",
        "# import pyyaml\n",
        "\n",
        "from snowflake.snowpark.functions import date_trunc, current_date\n",
        "from snowflake.snowpark.functions import col, lit, when\n",
        "from snowflake.snowpark.types import DateType\n",
        "\n",
        "import snowflake.snowpark.functions as f\n"
      ]
    },
    {
      "cell_type": "code",
      "execution_count": 127,
      "metadata": {},
      "outputs": [
        {
          "name": "stdout",
          "output_type": "stream",
          "text": [
            "--------------------------------------------------------------------------------------------------------------------------------------------------------------------------------------------------------------------------------------------\n",
            "|\"CREATED_WEEK\"  |\"EMAIL\"                     |\"CUSTOMER_ID\"  |\"SUBSCRIPTIONID\"                      |\"FREQUENCY\"  |\"CREATEDAT\"  |\"CANCELLEDAT\"  |\"CANCELLED_WEEK\"  |\"CYCLESCOMPLETED\"  |\"STATUS\"   |\"STOREFRONTUSERID\"                    |\n",
            "--------------------------------------------------------------------------------------------------------------------------------------------------------------------------------------------------------------------------------------------\n",
            "|2024-09-16      |kristen_schroder@yahoo.com  |7080128217193  |2c2ace2c-413c-4aed-9381-eff1adbb169e  |bi-monthly   |2024-09-18   |NULL           |NULL              |5                  |ACTIVE     |a0109951-ccf2-484d-a86d-1a06c928042c  |\n",
            "|2025-03-10      |karieannbradley@me.com      |7710871945321  |893d25f7-c8af-4075-b416-25dac2894142  |bi-monthly   |2025-03-10   |NULL           |NULL              |2                  |ACTIVE     |6f5abfa7-c368-4fbe-9d0e-b5f32f9bd674  |\n",
            "|2024-03-11      |closset@sbcglobal.net       |3633310269545  |55014409-0375-47d1-993e-0f3d29b35230  |bi-monthly   |2024-03-13   |2024-07-31     |2024-07-29        |2                  |CANCELLED  |5421a8e1-094e-4902-bf4d-691f6f09ad51  |\n",
            "|2025-01-06      |kirstin@livetahoenow.com    |7609899253865  |eafb71f3-8971-40b0-b1ec-b64edf20eba0  |bi-monthly   |2025-01-06   |2025-03-26     |2025-03-24        |1                  |CANCELLED  |b9b75496-9963-403d-a684-6eb531bfa72a  |\n",
            "|2025-05-19      |lisajmoore1@verizon.net     |6638366654569  |c65296f8-29f9-4f81-9ee3-1283a2a2c671  |bi-monthly   |2025-05-24   |NULL           |NULL              |1                  |ACTIVE     |60c9fedc-b25e-4712-8024-eb46d1da5eac  |\n",
            "|2024-09-23      |mmdimitris@gmail.com        |6827318083689  |904caf03-97ba-44a2-a5a2-47c388313028  |bi-monthly   |2024-09-25   |2025-02-23     |2025-02-17        |3                  |CANCELLED  |8b32b655-194d-4a12-bc5b-4bb05beb69f2  |\n",
            "|2024-07-22      |dizzyinak@hotmail.com       |6920526757993  |c9d86f5c-fa6c-4909-9efc-6c8651148938  |bi-monthly   |2024-07-25   |NULL           |NULL              |4                  |ACTIVE     |e264dc91-5551-487b-bb89-43289ecc7c51  |\n",
            "|2024-03-11      |linda.rusty@gmail.com       |3258195673193  |9bc8d2cf-ed43-44a9-9dce-bb22608cd90d  |bi-monthly   |2024-03-13   |NULL           |NULL              |5                  |ACTIVE     |ae4b07db-9a3e-4e1c-83ab-b016120899ed  |\n",
            "|2024-04-15      |whitney_g28@hotmail.com     |6776850612329  |d2640e2e-e687-4027-9e86-7241695e3845  |bi-monthly   |2024-04-20   |2024-06-20     |2024-06-17        |2                  |CANCELLED  |558ec6dc-ed31-4068-9eb5-b4ba816ea323  |\n",
            "|2025-06-02      |christamcintyre@gmail.com   |7923983286377  |23f51b8a-8cce-4871-bdd0-cc8c965258e2  |bi-monthly   |2025-06-03   |NULL           |NULL              |1                  |ACTIVE     |c79935c1-644c-4345-93b9-71086c249a55  |\n",
            "--------------------------------------------------------------------------------------------------------------------------------------------------------------------------------------------------------------------------------------------\n",
            "\n"
          ]
        }
      ],
      "source": [
        "df = session.table(\"analytics.analytics_inference.skio_subscriptions\").where(col('frequency')=='bi-monthly')\n",
        "df.show()"
      ]
    },
    {
      "cell_type": "code",
      "execution_count": 122,
      "metadata": {},
      "outputs": [
        {
          "data": {
            "text/plain": [
              "[datetime.date(2025, 6, 2),\n",
              " datetime.date(2025, 5, 26),\n",
              " datetime.date(2025, 5, 19),\n",
              " datetime.date(2025, 5, 12),\n",
              " datetime.date(2025, 5, 5),\n",
              " datetime.date(2025, 4, 28),\n",
              " datetime.date(2025, 4, 21),\n",
              " datetime.date(2025, 4, 14),\n",
              " datetime.date(2025, 4, 7)]"
            ]
          },
          "execution_count": 122,
          "metadata": {},
          "output_type": "execute_result"
        }
      ],
      "source": [
        "today = date.today()\n",
        "this_monday = today - timedelta(days=today.weekday())\n",
        "mondays = [this_monday - timedelta(weeks=i+1) for i in range(9)]\n",
        "\n",
        "snapshot_week = date(2025, 5, 19)  # or however you're setting it\n",
        "week_plus_14 = snapshot_week + timedelta(days=14)\n",
        "\n",
        "\n",
        "mondays"
      ]
    },
    {
      "cell_type": "code",
      "execution_count": 83,
      "metadata": {},
      "outputs": [
        {
          "name": "stdout",
          "output_type": "stream",
          "text": [
            "-------------------------------------------------------------------------------------------------------------------------------------------------------------------------------------------------------------------------------------------\n",
            "|\"CREATED_WEEK\"  |\"EMAIL\"                    |\"CUSTOMER_ID\"  |\"SUBSCRIPTIONID\"                      |\"FREQUENCY\"  |\"CREATEDAT\"  |\"CANCELLEDAT\"  |\"CANCELLED_WEEK\"  |\"CYCLESCOMPLETED\"  |\"STATUS\"   |\"STOREFRONTUSERID\"                    |\n",
            "-------------------------------------------------------------------------------------------------------------------------------------------------------------------------------------------------------------------------------------------\n",
            "|2024-09-09      |jillybean2213@hotmail.com  |7074824945769  |0d6ce8aa-eefa-4230-b222-bd10a361505e  |bi-monthly   |2024-09-14   |2024-12-10     |2024-12-09        |1                  |CANCELLED  |a72a4efa-7c7a-407c-861c-a4ebe7995b50  |\n",
            "|2024-04-08      |carden0510@gmail.com       |6762652565609  |c2b3c397-04ae-4618-b8fd-f8c75c8f6dc1  |bi-monthly   |2024-04-11   |2024-06-04     |2024-06-03        |1                  |CANCELLED  |bfaa8fb0-74ab-44b8-8d84-bec6896293ba  |\n",
            "|2024-03-11      |jacks8330@yahoo.com        |6633344729193  |a22b26b3-10ef-4650-81fa-67301046abb4  |bi-monthly   |2024-03-13   |2024-05-22     |2024-05-20        |2                  |CANCELLED  |4f90cbd4-f81e-46ab-a248-8e8e9025c799  |\n",
            "|2024-07-15      |christamcpeek@gmail.com    |6970875084905  |fca23c70-d31c-474b-9b21-ba2cf834a143  |bi-monthly   |2024-07-16   |2024-09-17     |2024-09-16        |1                  |CANCELLED  |fcd95d93-43e9-4b68-a257-d121b9fbe6e5  |\n",
            "|2024-10-07      |emm4106@yahoo.com          |7121270603881  |38cc6ed9-3e18-4a4f-9e67-7375bc09e6a0  |bi-monthly   |2024-10-07   |2025-02-07     |2025-02-03        |3                  |CANCELLED  |cb982d7e-b139-4f40-81e7-3dd303026ef2  |\n",
            "|2024-09-23      |ldurham17@gmail.com        |7102860099689  |d77cac80-b3c4-45a1-a8ec-16f6eca3afa3  |bi-monthly   |2024-09-27   |2025-06-04     |2025-06-02        |2                  |CANCELLED  |ea73419a-d55b-45d1-a0fb-7eb433e6c84c  |\n",
            "|2024-07-15      |amandabedell17@gmail.com   |6975885344873  |5ef7d5c1-0b82-4b28-b3d9-9a9a3441b8a2  |bi-monthly   |2024-07-19   |2024-11-01     |2024-10-28        |2                  |CANCELLED  |d757fdb7-db76-403e-b3fb-5832add6b440  |\n",
            "|2024-06-17      |kckaso@gmail.com           |6248475394153  |f5ecfccb-91c5-4142-bdb0-746ab67a720b  |bi-monthly   |2024-06-17   |2024-11-25     |2024-11-25        |3                  |CANCELLED  |90af3946-a05e-4cc5-add6-4ce58ac775d8  |\n",
            "|2024-07-22      |brandeeparge@gmail.com     |6980563337321  |4fe3cb90-ec86-4ed1-9403-af806e3b4841  |bi-monthly   |2024-07-23   |2024-09-24     |2024-09-23        |2                  |CANCELLED  |7f1c90b4-f5e3-484a-95b8-41fe66f2b5a1  |\n",
            "|2024-11-18      |kendrac4747@gmail.com      |7023492890729  |4d450764-b96e-4c11-abf8-f047e8ea12ad  |bi-monthly   |2024-11-18   |2025-02-06     |2025-02-03        |1                  |CANCELLED  |8e4a281e-5bca-4a01-87a6-13dcb8c5a11f  |\n",
            "-------------------------------------------------------------------------------------------------------------------------------------------------------------------------------------------------------------------------------------------\n",
            "\n"
          ]
        }
      ],
      "source": [
        "df.where(col(\"CREATED_WEEK\")<snapshot_week)\\\n",
        "    .where((col(\"cancelled_week\")>lit(snapshot_week))| (col(\"cancelledat\").is_not_null())).show()"
      ]
    },
    {
      "cell_type": "code",
      "execution_count": 130,
      "metadata": {},
      "outputs": [],
      "source": [
        "\n",
        "\n",
        "def build_snapshot (df, snapshot_week) :\n",
        "\n",
        "    churn_labeled_snapshot = (\n",
        "        df.where(col(\"CREATED_WEEK\")<snapshot_week)\\\n",
        "        .where((col(\"cancelled_week\")>lit(snapshot_week))| (col(\"cancelled_week\").is_null()))\\\n",
        "            .select(\n",
        "            lit(snapshot_week).alias(\"snapshot_week\"),\n",
        "            col(\"SUBSCRIPTIONID\"),\n",
        "            col(\"email\"),\n",
        "            col(\"createdat\"),\n",
        "            col(\"cancelledat\"),\n",
        "            col(\"cancelled_week\"),\n",
        "    \n",
        "            f.dateadd('week', lit(2), col('snapshot_week')).alias(\"snapshot_week_plus_2\"),\n",
        "             f.datediff('week', col(\"CREATED_WEEK\"), col(\"snapshot_week\")).alias(\"lifetime\"),\n",
        "             f.datediff('day', col(\"createdat\"), col(\"snapshot_week\")).alias(\"lifetime_day\"),\n",
        "\n",
        "            when(\n",
        "                #(col(\"cancelledat\").is_not_null()) &\n",
        "                #(col(\"cancelled_week\") > col(\"snapshot_week\")) &\n",
        "                (col(\"cancelled_week\") <= col(\"snapshot_week_plus_2\")),\n",
        "                1\n",
        "            ).otherwise(0).alias(\"churn_label_14_day\"),\n",
        "\n",
        "\n",
        "            )\n",
        "        )\n",
        "    return churn_labeled_snapshot\n"
      ]
    },
    {
      "cell_type": "code",
      "execution_count": 131,
      "metadata": {},
      "outputs": [
        {
          "name": "stdout",
          "output_type": "stream",
          "text": [
            "Week Completed : 2025-06-02, Active: 11196, Churned: 0\n",
            "Week Completed : 2025-05-26, Active: 11308, Churned: 340\n",
            "Week Completed : 2025-05-19, Active: 11388, Churned: 698\n",
            "Week Completed : 2025-05-12, Active: 11542, Churned: 741\n",
            "Week Completed : 2025-05-05, Active: 11675, Churned: 715\n",
            "Week Completed : 2025-04-28, Active: 11710, Churned: 617\n",
            "Week Completed : 2025-04-21, Active: 12054, Churned: 888\n",
            "Week Completed : 2025-04-14, Active: 12213, Churned: 1003\n",
            "Week Completed : 2025-04-07, Active: 12328, Churned: 781\n"
          ]
        }
      ],
      "source": [
        "all_snapshots = None\n",
        "\n",
        "for week in mondays:\n",
        "    snapshot = build_snapshot(df, week)\n",
        "    all_snapshots = snapshot if all_snapshots is None else all_snapshots.union(snapshot)\n",
        "\n",
        "    active = snapshot.agg(f.count_distinct(col('SUBSCRIPTIONID')).alias('active')).first()[0]\n",
        "    churned = snapshot.agg(f.sum(col('churn_label_14_day')).alias('churned')).first()[0]\n",
        "    print(f\"Week Completed : {week}, Active: {active}, Churned: {churned}\")\n",
        "\n",
        "all_snapshots= all_snapshots.sort(['EMAIL', 'SUBSCRIPTIONID', 'SNAPSHOT_WEEK'])"
      ]
    },
    {
      "cell_type": "code",
      "execution_count": 128,
      "metadata": {},
      "outputs": [
        {
          "name": "stdout",
          "output_type": "stream",
          "text": [
            "-----------------------------------------------------------------------------------------------------------------------------------------------------------------------------------------------------------------------------\n",
            "|\"SNAPSHOT_WEEK\"  |\"SUBSCRIPTIONID\"                      |\"EMAIL\"                                             |\"CREATEDAT\"  |\"CANCELLEDAT\"  |\"CANCELLED_WEEK\"  |\"SNAPSHOT_WEEK_PLUS_2\"  |\"LIFETIME\"  |\"CHURN_LABEL_14_DAY\"  |\n",
            "-----------------------------------------------------------------------------------------------------------------------------------------------------------------------------------------------------------------------------\n",
            "|2025-04-07       |1c8be995-05de-40ba-9525-b0bd92df2cf3  |00f1a9d5e0a8cb0c8e7e9bce003f2f751cdf4375fece7b2...  |2025-01-26   |NULL           |NULL              |2025-04-21              |11          |0                     |\n",
            "|2025-04-14       |1c8be995-05de-40ba-9525-b0bd92df2cf3  |00f1a9d5e0a8cb0c8e7e9bce003f2f751cdf4375fece7b2...  |2025-01-26   |NULL           |NULL              |2025-04-28              |12          |0                     |\n",
            "|2025-04-21       |1c8be995-05de-40ba-9525-b0bd92df2cf3  |00f1a9d5e0a8cb0c8e7e9bce003f2f751cdf4375fece7b2...  |2025-01-26   |NULL           |NULL              |2025-05-05              |13          |0                     |\n",
            "|2025-04-28       |1c8be995-05de-40ba-9525-b0bd92df2cf3  |00f1a9d5e0a8cb0c8e7e9bce003f2f751cdf4375fece7b2...  |2025-01-26   |NULL           |NULL              |2025-05-12              |14          |0                     |\n",
            "|2025-05-05       |1c8be995-05de-40ba-9525-b0bd92df2cf3  |00f1a9d5e0a8cb0c8e7e9bce003f2f751cdf4375fece7b2...  |2025-01-26   |NULL           |NULL              |2025-05-19              |15          |0                     |\n",
            "|2025-05-12       |1c8be995-05de-40ba-9525-b0bd92df2cf3  |00f1a9d5e0a8cb0c8e7e9bce003f2f751cdf4375fece7b2...  |2025-01-26   |NULL           |NULL              |2025-05-26              |16          |0                     |\n",
            "|2025-05-19       |1c8be995-05de-40ba-9525-b0bd92df2cf3  |00f1a9d5e0a8cb0c8e7e9bce003f2f751cdf4375fece7b2...  |2025-01-26   |NULL           |NULL              |2025-06-02              |17          |0                     |\n",
            "|2025-05-26       |1c8be995-05de-40ba-9525-b0bd92df2cf3  |00f1a9d5e0a8cb0c8e7e9bce003f2f751cdf4375fece7b2...  |2025-01-26   |NULL           |NULL              |2025-06-09              |18          |0                     |\n",
            "|2025-06-02       |1c8be995-05de-40ba-9525-b0bd92df2cf3  |00f1a9d5e0a8cb0c8e7e9bce003f2f751cdf4375fece7b2...  |2025-01-26   |NULL           |NULL              |2025-06-16              |19          |0                     |\n",
            "|2025-04-07       |08c576a4-7b5e-400b-ace9-81008134149f  |101rlw@gmail.com                                    |2024-12-06   |NULL           |NULL              |2025-04-21              |18          |0                     |\n",
            "|2025-04-14       |08c576a4-7b5e-400b-ace9-81008134149f  |101rlw@gmail.com                                    |2024-12-06   |NULL           |NULL              |2025-04-28              |19          |0                     |\n",
            "|2025-04-21       |08c576a4-7b5e-400b-ace9-81008134149f  |101rlw@gmail.com                                    |2024-12-06   |NULL           |NULL              |2025-05-05              |20          |0                     |\n",
            "|2025-04-28       |08c576a4-7b5e-400b-ace9-81008134149f  |101rlw@gmail.com                                    |2024-12-06   |NULL           |NULL              |2025-05-12              |21          |0                     |\n",
            "|2025-05-05       |08c576a4-7b5e-400b-ace9-81008134149f  |101rlw@gmail.com                                    |2024-12-06   |NULL           |NULL              |2025-05-19              |22          |0                     |\n",
            "|2025-05-12       |08c576a4-7b5e-400b-ace9-81008134149f  |101rlw@gmail.com                                    |2024-12-06   |NULL           |NULL              |2025-05-26              |23          |0                     |\n",
            "|2025-05-19       |08c576a4-7b5e-400b-ace9-81008134149f  |101rlw@gmail.com                                    |2024-12-06   |NULL           |NULL              |2025-06-02              |24          |0                     |\n",
            "|2025-05-26       |08c576a4-7b5e-400b-ace9-81008134149f  |101rlw@gmail.com                                    |2024-12-06   |NULL           |NULL              |2025-06-09              |25          |0                     |\n",
            "|2025-06-02       |08c576a4-7b5e-400b-ace9-81008134149f  |101rlw@gmail.com                                    |2024-12-06   |NULL           |NULL              |2025-06-16              |26          |0                     |\n",
            "|2025-04-21       |6a9b6c82-5696-47f5-ba07-b0c90d32b3d2  |13jody@gmail.com                                    |2025-04-16   |NULL           |NULL              |2025-05-05              |1           |0                     |\n",
            "|2025-04-28       |6a9b6c82-5696-47f5-ba07-b0c90d32b3d2  |13jody@gmail.com                                    |2025-04-16   |NULL           |NULL              |2025-05-12              |2           |0                     |\n",
            "-----------------------------------------------------------------------------------------------------------------------------------------------------------------------------------------------------------------------------\n",
            "\n"
          ]
        }
      ],
      "source": [
        "all_snapshots.show(20)"
      ]
    },
    {
      "cell_type": "code",
      "execution_count": 113,
      "metadata": {},
      "outputs": [
        {
          "name": "stdout",
          "output_type": "stream",
          "text": [
            "----------------------------------------------------------------------------------------------------------------------------------------------------------------------------------------------------\n",
            "|\"SNAPSHOT_WEEK\"  |\"SUBSCRIPTIONID\"                      |\"EMAIL\"                    |\"CREATEDAT\"  |\"CANCELLEDAT\"  |\"CANCELLED_WEEK\"  |\"SNAPSHOT_WEEK_PLUS_2\"  |\"LIFETIME\"  |\"CHURN_LABEL_14_DAY\"  |\n",
            "----------------------------------------------------------------------------------------------------------------------------------------------------------------------------------------------------\n",
            "|2025-04-14       |dd239582-735d-47aa-93fc-7a370aca2736  |deanna.dethloff@gmail.com  |2024-10-07   |2025-05-05     |2025-05-05        |2025-04-28              |27          |0                     |\n",
            "|2025-04-21       |dd239582-735d-47aa-93fc-7a370aca2736  |deanna.dethloff@gmail.com  |2024-10-07   |2025-05-05     |2025-05-05        |2025-05-05              |28          |1                     |\n",
            "|2025-04-28       |dd239582-735d-47aa-93fc-7a370aca2736  |deanna.dethloff@gmail.com  |2024-10-07   |2025-05-05     |2025-05-05        |2025-05-12              |29          |1                     |\n",
            "|2025-04-14       |cccf0e6b-7fc8-4d09-9768-dbf82c54f63d  |deanna.hizon@gmail.com     |2024-07-14   |2025-04-30     |2025-04-28        |2025-04-28              |40          |1                     |\n",
            "|2025-04-21       |cccf0e6b-7fc8-4d09-9768-dbf82c54f63d  |deanna.hizon@gmail.com     |2024-07-14   |2025-04-30     |2025-04-28        |2025-05-05              |41          |1                     |\n",
            "|2025-04-14       |29306b7f-5a0f-40b2-af49-fa2d156582ec  |deb.crawford@gmail.com     |2024-12-13   |2025-05-07     |2025-05-05        |2025-04-28              |18          |0                     |\n",
            "|2025-04-21       |29306b7f-5a0f-40b2-af49-fa2d156582ec  |deb.crawford@gmail.com     |2024-12-13   |2025-05-07     |2025-05-05        |2025-05-05              |19          |1                     |\n",
            "|2025-04-28       |29306b7f-5a0f-40b2-af49-fa2d156582ec  |deb.crawford@gmail.com     |2024-12-13   |2025-05-07     |2025-05-05        |2025-05-12              |20          |1                     |\n",
            "|2025-04-14       |dcd6d4b8-2cec-4a2e-8fb7-3ece82859881  |deb6520@yahoo.com          |2025-02-17   |2025-05-21     |2025-05-19        |2025-04-28              |8           |0                     |\n",
            "|2025-04-21       |dcd6d4b8-2cec-4a2e-8fb7-3ece82859881  |deb6520@yahoo.com          |2025-02-17   |2025-05-21     |2025-05-19        |2025-05-05              |9           |0                     |\n",
            "|2025-04-28       |dcd6d4b8-2cec-4a2e-8fb7-3ece82859881  |deb6520@yahoo.com          |2025-02-17   |2025-05-21     |2025-05-19        |2025-05-12              |10          |0                     |\n",
            "|2025-05-05       |dcd6d4b8-2cec-4a2e-8fb7-3ece82859881  |deb6520@yahoo.com          |2025-02-17   |2025-05-21     |2025-05-19        |2025-05-19              |11          |1                     |\n",
            "|2025-05-12       |dcd6d4b8-2cec-4a2e-8fb7-3ece82859881  |deb6520@yahoo.com          |2025-02-17   |2025-05-21     |2025-05-19        |2025-05-26              |12          |1                     |\n",
            "|2025-04-14       |85ce427f-9e12-4dc1-9b1e-33ee7bc32d7c  |lmgarrett8@gmail.com       |2025-01-07   |2025-04-22     |2025-04-21        |2025-04-28              |14          |1                     |\n",
            "|2025-04-14       |746c57e1-2b29-4087-ab25-1055acf9b4a5  |lmgia25@aol.com            |2025-02-20   |2025-04-22     |2025-04-21        |2025-04-28              |8           |1                     |\n",
            "|2025-04-14       |2d65480e-e175-4dd0-9693-ba0837ae2eca  |lmogol@gmail.com           |2025-02-15   |2025-04-21     |2025-04-21        |2025-04-28              |9           |1                     |\n",
            "----------------------------------------------------------------------------------------------------------------------------------------------------------------------------------------------------\n",
            "\n"
          ]
        }
      ],
      "source": [
        "all_snapshots.where(col('EMAIL').isin(['lmgarrett8@gmail.com',\n",
        "'lmgia25@aol.com',\n",
        "'lmogol@gmail.com',\n",
        "'deanna.dethloff@gmail.com',\n",
        "'deanna.hizon@gmail.com',\n",
        "'deb.crawford@gmail.com',\n",
        "'deb6520@yahoo.com'])).show(50)"
      ]
    },
    {
      "cell_type": "code",
      "execution_count": 118,
      "metadata": {},
      "outputs": [
        {
          "name": "stdout",
          "output_type": "stream",
          "text": [
            "---------------------------------------------------\n",
            "|\"SNAPSHOT_WEEK\"  |\"CHURNED\"  |\"CANCELLED_COUNT\"  |\n",
            "---------------------------------------------------\n",
            "|2025-05-12       |741        |1072               |\n",
            "|2025-04-21       |888        |2242               |\n",
            "|2025-04-14       |1003       |2620               |\n",
            "|2025-05-26       |340        |340                |\n",
            "|2025-05-19       |698        |698                |\n",
            "|2025-05-05       |715        |1394               |\n",
            "|2025-06-02       |0          |0                  |\n",
            "|2025-04-28       |617        |1664               |\n",
            "---------------------------------------------------\n",
            "\n"
          ]
        }
      ],
      "source": [
        "all_snapshots.group_by('snapshot_week').agg(\n",
        "    f.sum(col('churn_label_14_day')).alias('churned'),\n",
        "    f.count(col('cancelledat')).alias('cancelled_count')    \n",
        "    ).show()"
      ]
    },
    {
      "cell_type": "code",
      "execution_count": 141,
      "metadata": {},
      "outputs": [
        {
          "name": "stdout",
          "output_type": "stream",
          "text": [
            "-----------------------------------------------------------------------------------------------------------------------------------------------------------------------------\n",
            "|\"EMAIL\"                          |\"MALES_PER_100_FEMALES\"  |\"HH_MEAN_INCOME\"  |\"HH_MEDIAN_INCOME\"  |\"AGE_MEDIAN\"  |\"AVG_HOUSEHOLD_SIZE\"  |\"MARRIED_HH\"  |\"SINGLE_MALE_HH\"  |\n",
            "-----------------------------------------------------------------------------------------------------------------------------------------------------------------------------\n",
            "|alisonway64@gmail.com            |102.0                    |93672             |59684               |36.9          |2.12                  |0.3212810     |0.2867133         |\n",
            "|ktbelieveit@hotmail.com          |108.6                    |119149            |77209               |37.0          |2.82                  |0.2799084     |0.2052044         |\n",
            "|jbwjenn@me.com                   |104.4                    |205792            |132494              |40.5          |2.20                  |0.4074330     |0.2353796         |\n",
            "|robin.godwin@yahoo.com           |102.6                    |159766            |134390              |33.1          |3.38                  |0.7429117     |0.0631285         |\n",
            "|melway99@gmail.com               |103.8                    |151952            |124583              |39.0          |2.79                  |0.7074322     |0.0949630         |\n",
            "|sanetblignaut@hotmail.com        |88.2                     |130018            |98494               |48.6          |2.43                  |0.5166092     |0.1339766         |\n",
            "|ankati@ankatiday.com             |102.7                    |115844            |92474               |50.1          |2.49                  |0.6042956     |0.1547142         |\n",
            "|melissaurwin@urwininteriors.com  |107.8                    |158754            |123710              |43.9          |2.67                  |0.6051784     |0.1647775         |\n",
            "|melissaurwin@urwininteriors.com  |107.8                    |158754            |123710              |43.9          |2.67                  |0.6051784     |0.1647775         |\n",
            "|beecott@msn.com                  |95.0                     |162891            |123358              |45.2          |3.01                  |0.5991907     |0.1254470         |\n",
            "-----------------------------------------------------------------------------------------------------------------------------------------------------------------------------\n",
            "\n"
          ]
        }
      ],
      "source": [
        "# Get demographic features using Snowpark DataFrame API\n",
        "demographic_features = session.table('analytics_inference.demographic_feature').select(\n",
        "    'email',\n",
        "    'males_per_100_females',\n",
        "    'hh_mean_income',\n",
        "    'hh_median_income', \n",
        "    'age_median',\n",
        "    'AVG_HOUSEHOLD_SIZE',\n",
        "    'MARRIED_HH',\n",
        "    'SINGLE_MALE_HH',\n",
        "\n",
        "\n",
        ")\n",
        "\n",
        "# Display first few rows\n",
        "demographic_features.show()\n"
      ]
    },
    {
      "cell_type": "code",
      "execution_count": 144,
      "metadata": {},
      "outputs": [
        {
          "name": "stdout",
          "output_type": "stream",
          "text": [
            "--------------------------------------------------------------------------------------------------------------------------------------------------------------------------------------------------------------------------------------------------------------------------------------------------------------\n",
            "|\"SNAPSHOT_WEEK\"  |\"SUBSCRIPTIONID\"                      |\"EMAIL\"                                             |\"LIFETIME\"  |\"LIFETIME_DAY\"  |\"CHURN_LABEL_14_DAY\"  |\"MALES_PER_100_FEMALES\"  |\"HH_MEAN_INCOME\"  |\"HH_MEDIAN_INCOME\"  |\"AGE_MEDIAN\"  |\"AVG_HOUSEHOLD_SIZE\"  |\"MARRIED_HH\"  |\"SINGLE_MALE_HH\"  |\n",
            "--------------------------------------------------------------------------------------------------------------------------------------------------------------------------------------------------------------------------------------------------------------------------------------------------------------\n",
            "|2025-04-07       |1c8be995-05de-40ba-9525-b0bd92df2cf3  |00f1a9d5e0a8cb0c8e7e9bce003f2f751cdf4375fece7b2...  |11          |71              |0                     |93.9                     |164393            |104205              |40.1          |2.12                  |0.3665280     |0.2178902         |\n",
            "|2025-04-14       |1c8be995-05de-40ba-9525-b0bd92df2cf3  |00f1a9d5e0a8cb0c8e7e9bce003f2f751cdf4375fece7b2...  |12          |78              |0                     |93.9                     |164393            |104205              |40.1          |2.12                  |0.3665280     |0.2178902         |\n",
            "|2025-04-21       |1c8be995-05de-40ba-9525-b0bd92df2cf3  |00f1a9d5e0a8cb0c8e7e9bce003f2f751cdf4375fece7b2...  |13          |85              |0                     |93.9                     |164393            |104205              |40.1          |2.12                  |0.3665280     |0.2178902         |\n",
            "|2025-04-28       |1c8be995-05de-40ba-9525-b0bd92df2cf3  |00f1a9d5e0a8cb0c8e7e9bce003f2f751cdf4375fece7b2...  |14          |92              |0                     |93.9                     |164393            |104205              |40.1          |2.12                  |0.3665280     |0.2178902         |\n",
            "|2025-05-05       |1c8be995-05de-40ba-9525-b0bd92df2cf3  |00f1a9d5e0a8cb0c8e7e9bce003f2f751cdf4375fece7b2...  |15          |99              |0                     |93.9                     |164393            |104205              |40.1          |2.12                  |0.3665280     |0.2178902         |\n",
            "|2025-05-12       |1c8be995-05de-40ba-9525-b0bd92df2cf3  |00f1a9d5e0a8cb0c8e7e9bce003f2f751cdf4375fece7b2...  |16          |106             |0                     |93.9                     |164393            |104205              |40.1          |2.12                  |0.3665280     |0.2178902         |\n",
            "|2025-05-19       |1c8be995-05de-40ba-9525-b0bd92df2cf3  |00f1a9d5e0a8cb0c8e7e9bce003f2f751cdf4375fece7b2...  |17          |113             |0                     |93.9                     |164393            |104205              |40.1          |2.12                  |0.3665280     |0.2178902         |\n",
            "|2025-05-26       |1c8be995-05de-40ba-9525-b0bd92df2cf3  |00f1a9d5e0a8cb0c8e7e9bce003f2f751cdf4375fece7b2...  |18          |120             |0                     |93.9                     |164393            |104205              |40.1          |2.12                  |0.3665280     |0.2178902         |\n",
            "|2025-06-02       |1c8be995-05de-40ba-9525-b0bd92df2cf3  |00f1a9d5e0a8cb0c8e7e9bce003f2f751cdf4375fece7b2...  |19          |127             |0                     |93.9                     |164393            |104205              |40.1          |2.12                  |0.3665280     |0.2178902         |\n",
            "|2025-04-07       |08c576a4-7b5e-400b-ace9-81008134149f  |101rlw@gmail.com                                    |18          |122             |0                     |85.2                     |111605            |92258               |57.0          |2.23                  |0.4953125     |0.2000000         |\n",
            "--------------------------------------------------------------------------------------------------------------------------------------------------------------------------------------------------------------------------------------------------------------------------------------------------------------\n",
            "\n"
          ]
        }
      ],
      "source": [
        "#join demographic features\n",
        "enriched_snapshots = all_snapshots.join(\n",
        "    demographic_features,\n",
        "    all_snapshots['EMAIL'] == demographic_features['EMAIL'],\n",
        "    'left'\n",
        ").select(\n",
        "    'SNAPSHOT_WEEK',\n",
        "    'SUBSCRIPTIONID',\n",
        "    all_snapshots['EMAIL'].alias('EMAIL'),  # Explicitly select EMAIL from all_snapshots\n",
        "    'LIFETIME',\n",
        "    'LIFETIME_DAY',\n",
        "    'CHURN_LABEL_14_DAY',\n",
        "    'MALES_PER_100_FEMALES',\n",
        "    'HH_MEAN_INCOME',\n",
        "    'HH_MEDIAN_INCOME',\n",
        "    'AGE_MEDIAN',\n",
        "    'AVG_HOUSEHOLD_SIZE',\n",
        "    'MARRIED_HH',\n",
        "    'SINGLE_MALE_HH'\n",
        ")\n",
        "\n",
        "enriched_snapshots = enriched_snapshots.sort(['EMAIL', 'SUBSCRIPTIONID', 'SNAPSHOT_WEEK'])\n",
        "enriched_snapshots.show()"
      ]
    },
    {
      "cell_type": "code",
      "execution_count": 145,
      "metadata": {},
      "outputs": [],
      "source": [
        "enriched_snapshots.\\\n",
        "        write.mode('overwrite') \\\n",
        "        .save_as_table('analytics.analytics_inference.bimonthly_churn_features')"
      ]
    },
    {
      "cell_type": "code",
      "execution_count": 59,
      "metadata": {},
      "outputs": [
        {
          "name": "stdout",
          "output_type": "stream",
          "text": [
            "-------------------------------------------------------------------------------------------------------------------------------------------------------------------------------------------------------\n",
            "|\"SNAPSHOT_WEEK\"  |\"SUBSCRIPTIONID\"                      |\"EMAIL\"                       |\"CREATEDAT\"  |\"CANCELLEDAT\"  |\"CANCELLED_WEEK\"  |\"SNAPSHOT_WEEK_PLUS_2\"  |\"LIFETIME\"  |\"CHURN_LABEL_14_DAY\"  |\n",
            "-------------------------------------------------------------------------------------------------------------------------------------------------------------------------------------------------------\n",
            "|2025-05-19       |70ad08dd-67d4-427f-9493-2e44578ba6e1  |jkirallah07@gmail.com         |2025-05-05   |2025-05-26     |2025-05-26        |2025-06-02              |3           |1                     |\n",
            "|2025-05-19       |c0e6effd-806c-4291-b8e0-4df29c19ca59  |tammyjohnston30068@yahoo.com  |2024-12-01   |2025-05-26     |2025-05-26        |2025-06-02              |26          |1                     |\n",
            "|2025-05-19       |f8084b8c-509b-4437-8f2c-4d9c5b9b9ba4  |kendra.battaglia@gmail.com    |2025-01-05   |2025-05-26     |2025-05-26        |2025-06-02              |21          |1                     |\n",
            "|2025-05-19       |1034dc3a-707d-4fc9-8021-f6a4eda2afbf  |carrieschroen@gmail.com       |2025-01-05   |2025-05-26     |2025-05-26        |2025-06-02              |21          |1                     |\n",
            "|2025-05-19       |f2fa11eb-2833-4122-afea-4b624d197a07  |jenny.n.gentile@gmail.com     |2025-01-03   |2025-05-26     |2025-05-26        |2025-06-02              |21          |1                     |\n",
            "|2025-05-19       |9c5d583d-6d7c-4287-89e6-17b53692f3f0  |megan.m.ross17@gmail.com      |2025-04-04   |2025-05-26     |2025-05-26        |2025-06-02              |8           |1                     |\n",
            "|2025-05-19       |53504fb2-e8f2-4209-8f15-8ff4a348ec99  |Hollyhoehn@hotmail.com        |2025-03-25   |2025-05-26     |2025-05-26        |2025-06-02              |9           |1                     |\n",
            "|2025-05-19       |65b531c4-484f-40d8-9fe4-caf2859765bb  |ktthrams@btconline.net        |2024-06-02   |2025-05-26     |2025-05-26        |2025-06-02              |52          |1                     |\n",
            "|2025-05-19       |952b4151-fae9-4086-b54c-0771380e1f0b  |kelleypeyman@gmail.com        |2024-10-03   |2025-05-26     |2025-05-26        |2025-06-02              |34          |1                     |\n",
            "|2025-05-19       |b07fce70-2c03-4675-9168-64643415c683  |janabmilne@hotmail.com        |2025-03-26   |2025-05-26     |2025-05-26        |2025-06-02              |9           |1                     |\n",
            "|2025-05-19       |2ce2ffb5-7cc5-4463-963d-efe58b509d3c  |hydesigns3@gmail.com          |2025-02-28   |2025-05-26     |2025-05-26        |2025-06-02              |13          |1                     |\n",
            "|2025-05-19       |6643a595-a95d-4c92-a5cc-15d75b7c5db9  |Kocchio@outlook.com           |2025-04-29   |2025-05-26     |2025-05-26        |2025-06-02              |4           |1                     |\n",
            "|2025-05-19       |0b650b06-4d4c-48cf-b36b-28aab974cc4e  |megan.m.ross17@gmail.com      |2025-05-15   |2025-05-26     |2025-05-26        |2025-06-02              |2           |1                     |\n",
            "|2025-05-19       |43828bc3-1442-416e-83b3-cc20c87de41f  |swewerka@me.com               |2024-08-31   |2025-05-26     |2025-05-26        |2025-06-02              |39          |1                     |\n",
            "|2025-05-19       |e575e54d-19f4-4bf5-a9bd-5b4ec94abd8f  |mdavis5273@gmail.com          |2024-09-06   |2025-05-26     |2025-05-26        |2025-06-02              |38          |1                     |\n",
            "|2025-05-19       |b501912e-3d26-40be-b7a7-be3da4f71dd8  |cindydhinckley@gmail.com      |2025-05-17   |2025-05-26     |2025-05-26        |2025-06-02              |2           |1                     |\n",
            "|2025-05-19       |71763ebe-1a2f-4f41-83e7-bd7e8b05662c  |mjtitgen@aol.com              |2024-12-02   |2025-05-26     |2025-05-26        |2025-06-02              |25          |1                     |\n",
            "|2025-05-19       |33d28854-09fd-40ca-bef8-ed43677a3d46  |nancifitz@gmail.com           |2024-08-23   |2025-05-26     |2025-05-26        |2025-06-02              |40          |1                     |\n",
            "|2025-05-19       |efd48c24-b56f-4c43-bd81-4ae0d7ba3ddc  |shiv@shivanipeterson.com      |2025-01-14   |2025-05-26     |2025-05-26        |2025-06-02              |19          |1                     |\n",
            "|2025-05-19       |bff93b88-1838-44c9-81d2-f69f85686144  |sarahelizcampbell@gmail.com   |2025-03-26   |2025-05-26     |2025-05-26        |2025-06-02              |9           |1                     |\n",
            "-------------------------------------------------------------------------------------------------------------------------------------------------------------------------------------------------------\n",
            "\n"
          ]
        }
      ],
      "source": [
        "\n",
        "churn_labeled_snapshot = build_snapshot (df, snapshot_week)\n",
        "\n",
        "churn_labeled_snapshot.where(col('cancelledat').is_not_null()).order_by(col('cancelledat').asc()).show(20)\n"
      ]
    },
    {
      "cell_type": "code",
      "execution_count": 136,
      "metadata": {},
      "outputs": [
        {
          "name": "stdout",
          "output_type": "stream",
          "text": [
            "Number of rows before join: 105414\n",
            "Number of rows after join: 111438\n",
            "----------------------------------------------------------------------------------------------------------------------------------------------------------------------------------------------------------------------------------------------------------------------------------------------------\n",
            "|\"SNAPSHOT_WEEK\"  |\"SUBSCRIPTIONID\"                      |\"EMAIL\"                  |\"CREATEDAT\"  |\"CANCELLEDAT\"  |\"CANCELLED_WEEK\"  |\"SNAPSHOT_WEEK_PLUS_2\"  |\"LIFETIME\"  |\"LIFETIME_DAY\"  |\"CHURN_LABEL_14_DAY\"  |\"MALES_PER_100_FEMALES\"  |\"HH_MEAN_INCOME\"  |\"HH_MEDIAN_INCOME\"  |\"AGE_MEDIAN\"  |\n",
            "----------------------------------------------------------------------------------------------------------------------------------------------------------------------------------------------------------------------------------------------------------------------------------------------------\n",
            "|2025-05-12       |353a1cca-8fa0-45d7-b0b2-40cafae938a6  |annhitchler@aol.com      |2024-11-03   |NULL           |NULL              |2025-05-26              |28          |190             |0                     |94.6                     |201229            |146724              |39.3          |\n",
            "|2025-05-19       |353a1cca-8fa0-45d7-b0b2-40cafae938a6  |annhitchler@aol.com      |2024-11-03   |NULL           |NULL              |2025-06-02              |29          |197             |0                     |94.6                     |201229            |146724              |39.3          |\n",
            "|2025-05-26       |353a1cca-8fa0-45d7-b0b2-40cafae938a6  |annhitchler@aol.com      |2024-11-03   |NULL           |NULL              |2025-06-09              |30          |204             |0                     |94.6                     |201229            |146724              |39.3          |\n",
            "|2025-06-02       |353a1cca-8fa0-45d7-b0b2-40cafae938a6  |annhitchler@aol.com      |2024-11-03   |NULL           |NULL              |2025-06-16              |31          |211             |0                     |94.6                     |201229            |146724              |39.3          |\n",
            "|2025-04-14       |12c65857-81e3-4718-b7b4-ec4fc90ee24e  |annie.e.elder@gmail.com  |2025-04-13   |NULL           |NULL              |2025-04-28              |1           |1               |0                     |95.8                     |380814            |227013              |45.4          |\n",
            "|2025-04-14       |12c65857-81e3-4718-b7b4-ec4fc90ee24e  |annie.e.elder@gmail.com  |2025-04-13   |NULL           |NULL              |2025-04-28              |1           |1               |0                     |95.8                     |380814            |227013              |45.4          |\n",
            "|2025-04-14       |12c65857-81e3-4718-b7b4-ec4fc90ee24e  |annie.e.elder@gmail.com  |2025-04-13   |NULL           |NULL              |2025-04-28              |1           |1               |0                     |95.8                     |380814            |227013              |45.4          |\n",
            "|2025-04-21       |12c65857-81e3-4718-b7b4-ec4fc90ee24e  |annie.e.elder@gmail.com  |2025-04-13   |NULL           |NULL              |2025-05-05              |2           |8               |0                     |95.8                     |380814            |227013              |45.4          |\n",
            "|2025-04-21       |12c65857-81e3-4718-b7b4-ec4fc90ee24e  |annie.e.elder@gmail.com  |2025-04-13   |NULL           |NULL              |2025-05-05              |2           |8               |0                     |95.8                     |380814            |227013              |45.4          |\n",
            "|2025-04-21       |12c65857-81e3-4718-b7b4-ec4fc90ee24e  |annie.e.elder@gmail.com  |2025-04-13   |NULL           |NULL              |2025-05-05              |2           |8               |0                     |95.8                     |380814            |227013              |45.4          |\n",
            "----------------------------------------------------------------------------------------------------------------------------------------------------------------------------------------------------------------------------------------------------------------------------------------------------\n",
            "\n"
          ]
        }
      ],
      "source": [
        "# Join all_snapshots with demographic features and select specific columns\n",
        "enriched_snapshots = all_snapshots.join(\n",
        "    demographic_features,\n",
        "    all_snapshots['EMAIL'] == demographic_features['EMAIL'],\n",
        "    'left'\n",
        ").select(\n",
        "    'SNAPSHOT_WEEK',\n",
        "    'SUBSCRIPTIONID',\n",
        "    all_snapshots['EMAIL'].alias('EMAIL'),  # Explicitly select EMAIL from all_snapshots\n",
        "    'CREATEDAT',\n",
        "    'CANCELLEDAT',\n",
        "    'CANCELLED_WEEK',\n",
        "    'SNAPSHOT_WEEK_PLUS_2',\n",
        "    'LIFETIME',\n",
        "    'LIFETIME_DAY',\n",
        "    'CHURN_LABEL_14_DAY',\n",
        "    'MALES_PER_100_FEMALES',\n",
        "    'HH_MEAN_INCOME',\n",
        "    'HH_MEDIAN_INCOME',\n",
        "    'AGE_MEDIAN'\n",
        ")\n",
        "\n",
        "# Show the first few rows of the joined data with single EMAIL column\n",
        "print(\"Number of rows before join:\", all_snapshots.count())\n",
        "print(\"Number of rows after join:\", enriched_snapshots.count())\n",
        "enriched_snapshots.show()\n"
      ]
    }
  ],
  "metadata": {
    "kernelspec": {
      "display_name": ".venv",
      "language": "python",
      "name": "python3"
    },
    "language_info": {
      "codemirror_mode": {
        "name": "ipython",
        "version": 3
      },
      "file_extension": ".py",
      "mimetype": "text/x-python",
      "name": "python",
      "nbconvert_exporter": "python",
      "pygments_lexer": "ipython3",
      "version": "3.9.6"
    }
  },
  "nbformat": 4,
  "nbformat_minor": 2
}
