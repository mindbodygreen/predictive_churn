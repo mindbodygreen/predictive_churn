{
  "cells": [
    {
      "cell_type": "code",
      "execution_count": 6,
      "metadata": {},
      "outputs": [],
      "source": [
        "from snowflake.snowpark import Session\n",
        "\n",
        "\n",
        "connection_parameters = {\n",
        "\n",
        "     \"account\":\"zfb96811.us-east-1\", \n",
        "     \"role\":\"ACCOUNTADMIN\", \n",
        "     \"database\":\"ANALYTICS\", \n",
        "     \"schema\":\"PUBLIC\",\n",
        "     \"warehouse\":\"COMPUTE_WH\",\n",
        "    \"user\": \"IMAHAKUMARA\",\n",
        "    \"password\":\"gEfnun-dewnin-0nadpy\"    \n",
        "}\n",
        "\n",
        "session = Session.builder.configs(connection_parameters).create()"
      ]
    },
    {
      "cell_type": "code",
      "execution_count": 28,
      "metadata": {},
      "outputs": [],
      "source": [
        "# Test notebook\n",
        "import pandas as pd\n",
        "from datetime import date, timedelta\n",
        "\n",
        "from snowflake.snowpark.functions import date_trunc, current_date\n",
        "from snowflake.snowpark.functions import col, lit, when\n",
        "from snowflake.snowpark.types import DateType\n",
        "\n",
        "import snowflake.snowpark.functions as f\n"
      ]
    },
    {
      "cell_type": "code",
      "execution_count": 24,
      "metadata": {},
      "outputs": [],
      "source": [
        "df = session.table(\"analytics.analytics_inference.skio_subscriptions\").where(col('frequency')=='bi-monthly')"
      ]
    },
    {
      "cell_type": "code",
      "execution_count": 25,
      "metadata": {},
      "outputs": [
        {
          "name": "stdout",
          "output_type": "stream",
          "text": [
            "-----------------------------------------------------------------------------------------------------------------------------------------------------------------------------------------------------------------------------------------------------\n",
            "|\"CREATED_WEEK\"  |\"EMAIL\"                              |\"CUSTOMER_ID\"  |\"SUBSCRIPTIONID\"                      |\"FREQUENCY\"  |\"CREATEDAT\"  |\"CANCELLEDAT\"  |\"CANCELLED_WEEK\"  |\"CYCLESCOMPLETED\"  |\"STATUS\"   |\"STOREFRONTUSERID\"                    |\n",
            "-----------------------------------------------------------------------------------------------------------------------------------------------------------------------------------------------------------------------------------------------------\n",
            "|2024-08-19      |lauren.f.hunt@gmail.com              |7021556498537  |1d33e54e-4a91-4340-8264-422f85834445  |bi-monthly   |2024-08-20   |NULL           |NULL              |5                  |ACTIVE     |d2138467-a2f9-469e-9ea3-1ec1ed667a5b  |\n",
            "|2024-11-25      |mindbodygreen.1s8ay@simplelogin.com  |7419378597993  |7b5090b3-9c18-4f79-80b8-33902a1c613d  |bi-monthly   |2024-11-28   |2025-03-29     |2025-03-24        |3                  |CANCELLED  |89f95062-b824-4f4d-84c4-d732869931e5  |\n",
            "|2024-05-27      |harmintrout@yahoo.com                |6897977557097  |547ae287-8ef7-4e41-b77c-a927944efd85  |bi-monthly   |2024-06-02   |2025-03-30     |2025-03-24        |5                  |CANCELLED  |1499c163-b4e4-4990-8112-66c06d5778d4  |\n",
            "|2024-08-05      |weisgerberk@gmail.com                |6934539141225  |c189be84-4ae3-4325-af77-997e0d96da34  |bi-monthly   |2024-08-07   |2025-01-05     |2024-12-30        |2                  |CANCELLED  |8caeab69-380e-490a-8fc3-e15e39126cd6  |\n",
            "|2024-08-26      |hicks.nicki@gmail.com                |7039564054633  |5a6d8b73-a02e-47f3-8383-eeb76702e188  |bi-monthly   |2024-08-29   |NULL           |NULL              |4                  |ACTIVE     |16fd9f21-50c5-4a31-9872-e883bee25c51  |\n",
            "|2024-07-22      |justine-gray@hotmail.com             |6823240728681  |dc4b0763-8556-4a67-b1d8-447cb4d35a34  |bi-monthly   |2024-07-28   |2024-10-01     |2024-09-30        |2                  |CANCELLED  |7ba6cf1d-251b-4919-95e9-2e97926e6b48  |\n",
            "|2024-08-12      |dinamcheck@gmail.com                 |7017758523497  |78f8f59d-206c-4483-9bc4-f82dd586726b  |bi-monthly   |2024-08-17   |2025-01-19     |2025-01-13        |3                  |CANCELLED  |22853eb5-83df-4600-a549-6d0bdfb399dd  |\n",
            "|2024-10-28      |lisa_sterling@hotmail.com            |7236193321065  |749f0885-a355-403a-b55c-251b323557d2  |bi-monthly   |2024-11-03   |2025-03-05     |2025-03-03        |3                  |CANCELLED  |011a1861-560e-46c4-9429-3a2c9e17b4fa  |\n",
            "|2024-04-22      |mlj6244@gmail.com                    |6804641054825  |41348c49-f58b-49db-93c6-2e6909622748  |bi-monthly   |2024-04-27   |2025-02-20     |2025-02-17        |4                  |CANCELLED  |f907e5d0-8ca2-4fb1-98a7-1025a2ecf71c  |\n",
            "|2024-05-13      |krmcavoy@comcast.net                 |6858214998121  |b794ae9e-e035-40b3-867e-ccf86f500a00  |bi-monthly   |2024-05-18   |2024-07-18     |2024-07-15        |2                  |CANCELLED  |e518f539-afc2-45c8-889c-381616be3dd4  |\n",
            "-----------------------------------------------------------------------------------------------------------------------------------------------------------------------------------------------------------------------------------------------------\n",
            "\n"
          ]
        }
      ],
      "source": [
        "df.show()"
      ]
    },
    {
      "cell_type": "code",
      "execution_count": 10,
      "metadata": {},
      "outputs": [
        {
          "data": {
            "text/plain": [
              "[datetime.date(2025, 6, 2),\n",
              " datetime.date(2025, 5, 26),\n",
              " datetime.date(2025, 5, 19),\n",
              " datetime.date(2025, 5, 12),\n",
              " datetime.date(2025, 5, 5),\n",
              " datetime.date(2025, 4, 28),\n",
              " datetime.date(2025, 4, 21),\n",
              " datetime.date(2025, 4, 14)]"
            ]
          },
          "execution_count": 10,
          "metadata": {},
          "output_type": "execute_result"
        }
      ],
      "source": [
        "today = date.today()\n",
        "this_monday = today - timedelta(days=today.weekday())\n",
        "\n",
        "mondays = [this_monday - timedelta(weeks=i) for i in range(8)]\n",
        "\n",
        "mondays"
      ]
    },
    {
      "cell_type": "code",
      "execution_count": 37,
      "metadata": {},
      "outputs": [],
      "source": [
        "snapshot_week = date(2025, 5, 26)  # or however you're setting it\n",
        "week_plus_14 = snapshot_week + timedelta(days=14)\n",
        "\n",
        "\n",
        "\n",
        "churn_labeled_snapshot = (\n",
        "    df.where(col(\"CREATED_WEEK\")<snapshot_week).select(\n",
        "        lit(snapshot_week).alias(\"snapshot_week\"),\n",
        "        col(\"SUBSCRIPTIONID\"),\n",
        "        col(\"email\"),\n",
        "        col(\"createdat\"),\n",
        "        col(\"cancelledat\"),\n",
        "        when(\n",
        "            col(\"cancelledat\").is_not_null(), f.datediff('week', col(\"CREATED_WEEK\"), col(\"CANCELLEDAT\"))).otherwise(\n",
        "            f.datediff('week', col(\"CREATED_WEEK\"), col(\"snapshot_week\"))\n",
        "        ).alias(\"lifetime\"),\n",
        "        when(\n",
        "            (col(\"cancelledat\").is_not_null()) &\n",
        "            (col(\"cancelledat\") <= lit(snapshot_week)),\n",
        "            1\n",
        "        ).otherwise(0).alias(\"snapshot_churn_state\"),\n",
        "          \n",
        "    )\n",
        ")"
      ]
    },
    {
      "cell_type": "code",
      "execution_count": 40,
      "metadata": {},
      "outputs": [
        {
          "name": "stdout",
          "output_type": "stream",
          "text": [
            "----------------------------------------------------------------------------------------------------------------------------------------------------------\n",
            "|\"SNAPSHOT_WEEK\"  |\"SUBSCRIPTIONID\"                      |\"EMAIL\"                    |\"CREATEDAT\"  |\"CANCELLEDAT\"  |\"LIFETIME\"  |\"SNAPSHOT_CHURN_STATE\"  |\n",
            "----------------------------------------------------------------------------------------------------------------------------------------------------------\n",
            "|2025-05-26       |9782f909-d05c-4993-9f4d-48ca59c4306c  |nancyjgregg@gmail.com      |2024-07-05   |NULL           |47          |0                       |\n",
            "|2025-05-26       |3d7fe005-88ac-454b-b2d1-f2b042bd89f2  |nathalie@ndmossdesign.com  |2025-01-27   |NULL           |17          |0                       |\n",
            "|2025-05-26       |92755da6-9bf4-4f2c-ac03-0b6f20c608ef  |ericaconnelly@hotmail.com  |2024-12-10   |NULL           |24          |0                       |\n",
            "|2025-05-26       |aa4c85c5-6b7d-469e-afe0-8b1a6b985547  |bianchiolson@hotmail.com   |2025-04-09   |NULL           |7           |0                       |\n",
            "|2025-05-26       |6f867349-04ad-435c-996d-fa8055ed96d6  |dsmidutz@yahoo.com         |2025-02-19   |NULL           |14          |0                       |\n",
            "|2025-05-26       |79ac1ec4-4b4b-4514-8de3-d773fa12f5bc  |silvershark1823@gmail.com  |2024-09-11   |NULL           |37          |0                       |\n",
            "|2025-05-26       |a80946c9-3c82-496c-87a7-e3c5444e4a91  |rondablood@gmail.com       |2025-02-08   |NULL           |16          |0                       |\n",
            "|2025-05-26       |48de7401-4428-4975-bbb3-10b6b980542a  |zackandtomato@gmail.com    |2025-01-04   |NULL           |21          |0                       |\n",
            "|2025-05-26       |8160a40e-6cad-46a0-85df-e7ecf0e10410  |nwisniew21@yahoo.com       |2024-04-09   |NULL           |59          |0                       |\n",
            "|2025-05-26       |45090e26-68b6-4ddf-bad0-ab143e13bb67  |tanya@crocodile.org        |2025-04-12   |NULL           |7           |0                       |\n",
            "----------------------------------------------------------------------------------------------------------------------------------------------------------\n",
            "\n"
          ]
        }
      ],
      "source": [
        "churn_labeled_snapshot.where(col('cancelledat').is_null()).show()\n"
      ]
    }
  ],
  "metadata": {
    "kernelspec": {
      "display_name": ".venv",
      "language": "python",
      "name": "python3"
    },
    "language_info": {
      "codemirror_mode": {
        "name": "ipython",
        "version": 3
      },
      "file_extension": ".py",
      "mimetype": "text/x-python",
      "name": "python",
      "nbconvert_exporter": "python",
      "pygments_lexer": "ipython3",
      "version": "3.9.6"
    }
  },
  "nbformat": 4,
  "nbformat_minor": 2
}
