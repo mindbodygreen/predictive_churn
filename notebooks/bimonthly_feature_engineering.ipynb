{
  "cells": [
    {
      "cell_type": "code",
      "execution_count": 1,
      "metadata": {},
      "outputs": [],
      "source": [
        "# Add src directory to Python path\n",
        "import sys\n",
        "import os\n",
        "from datetime import date, timedelta\n",
        "import pandas as pd\n",
        "\n",
        "sys.path.append(os.path.abspath('../src'))\n",
        "\n",
        "\n",
        "\n",
        "from snowflake.snowpark.functions import date_trunc, current_date\n",
        "from snowflake.snowpark.functions import col, lit, when\n",
        "from snowflake.snowpark.types import DateType\n",
        "import snowflake.snowpark.functions as f\n",
        "\n",
        "# Get Snowflake session\n",
        "from SnowflakeConnector import get_snowflake_session\n",
        "session = get_snowflake_session()\n"
      ]
    },
    {
      "cell_type": "code",
      "execution_count": 2,
      "metadata": {},
      "outputs": [
        {
          "name": "stdout",
          "output_type": "stream",
          "text": [
            "<snowflake.snowpark.session.Session: account=\"zfb96811\", role=\"ACCOUNTADMIN\", database=\"ANALYTICS\", schema=\"PUBLIC\", warehouse=\"COMPUTE_WH\">\n"
          ]
        }
      ],
      "source": [
        "print(session) "
      ]
    },
    {
      "cell_type": "code",
      "execution_count": 4,
      "metadata": {},
      "outputs": [
        {
          "name": "stdout",
          "output_type": "stream",
          "text": [
            "Subscription Features:\n",
            "-----------------------------------------------------------------------------------------------------------------------------------------------------------------------------------------------------------------------------------------------------------------------------------\n",
            "|\"SNAPSHOT_WEEK\"  |\"SUBSCRIPTIONID\"                      |\"EMAIL\"                  |\"LIFETIME\"  |\"LIFETIME_DAY\"  |\"CHURN_LABEL_14_DAY\"  |\"MALES_PER_100_FEMALES\"  |\"HH_MEAN_INCOME\"  |\"HH_MEDIAN_INCOME\"  |\"AGE_MEDIAN\"  |\"AVG_HOUSEHOLD_SIZE\"  |\"MARRIED_HH\"  |\"SINGLE_MALE_HH\"  |\n",
            "-----------------------------------------------------------------------------------------------------------------------------------------------------------------------------------------------------------------------------------------------------------------------------------\n",
            "|2025-04-28       |eefe0d0a-65d7-406b-ae34-c3b08ff8cf47  |suehofer1@abe.midco.net  |17          |119             |0                     |98.7                     |166746            |97500               |63.6          |1.87                  |0.5476190     |0.2240602         |\n",
            "|2025-05-05       |eefe0d0a-65d7-406b-ae34-c3b08ff8cf47  |suehofer1@abe.midco.net  |18          |126             |0                     |98.7                     |166746            |97500               |63.6          |1.87                  |0.5476190     |0.2240602         |\n",
            "|2025-05-12       |eefe0d0a-65d7-406b-ae34-c3b08ff8cf47  |suehofer1@abe.midco.net  |19          |133             |0                     |98.7                     |166746            |97500               |63.6          |1.87                  |0.5476190     |0.2240602         |\n",
            "|2025-05-19       |eefe0d0a-65d7-406b-ae34-c3b08ff8cf47  |suehofer1@abe.midco.net  |20          |140             |0                     |98.7                     |166746            |97500               |63.6          |1.87                  |0.5476190     |0.2240602         |\n",
            "|2025-05-26       |eefe0d0a-65d7-406b-ae34-c3b08ff8cf47  |suehofer1@abe.midco.net  |21          |147             |0                     |98.7                     |166746            |97500               |63.6          |1.87                  |0.5476190     |0.2240602         |\n",
            "-----------------------------------------------------------------------------------------------------------------------------------------------------------------------------------------------------------------------------------------------------------------------------------\n",
            "\n",
            "\n",
            "Shop Order Features:\n",
            "--------------------------------------------------------------------------------------------------------------------------------------------------------------------------------------------------------------------------------------------------------\n",
            "|\"SNAPSHOT_WEEK\"  |\"EMAIL\"            |\"TOTAL_NET_REVENUE\"  |\"ORDER_COUNT\"  |\"DAYS_SINCE_LAST_ORDER\"  |\"PREFERRED_CHANNEL\"  |\"PAID_SOCIAL\"  |\"PAID_SEARCH\"  |\"REFERRAL\"  |\"AFFILIATE\"  |\"ORGANIC_SOCIAL\"  |\"ORGANIC_SEARCH\"  |\"MAIN_SITE\"  |\"CONTENT\"  |\n",
            "--------------------------------------------------------------------------------------------------------------------------------------------------------------------------------------------------------------------------------------------------------\n",
            "|2025-04-14       |skiwz09@gmail.com  |91.2                 |2              |188                      |Affiliate            |0              |0              |0           |1            |0                 |0                 |0            |0          |\n",
            "|2025-04-21       |skiwz09@gmail.com  |91.2                 |2              |195                      |Paid Social          |1              |0              |0           |0            |0                 |0                 |0            |0          |\n",
            "|2025-04-28       |skiwz09@gmail.com  |91.2                 |2              |202                      |Affiliate            |0              |0              |0           |1            |0                 |0                 |0            |0          |\n",
            "|2025-05-05       |skiwz09@gmail.com  |91.2                 |2              |209                      |Paid Social          |1              |0              |0           |0            |0                 |0                 |0            |0          |\n",
            "|2025-05-12       |skiwz09@gmail.com  |91.2                 |2              |216                      |Affiliate            |0              |0              |0           |1            |0                 |0                 |0            |0          |\n",
            "--------------------------------------------------------------------------------------------------------------------------------------------------------------------------------------------------------------------------------------------------------\n",
            "\n",
            "\n",
            "Demographic Features:\n",
            "-------------------------------------------------------------------------------------------------------------------------------------------------------------------------------------------------------------------------------------------------------------------------------------------------\n",
            "|\"EMAIL\"                      |\"ZIPCODE\"  |\"ZIP_CODE\"  |\"CITY\"       |\"STATE\"  |\"AVG_HOUSEHOLD_SIZE\"  |\"AVG_FAMILY_SIZE\"  |\"SINGLE_MALE_HH\"  |\"SINGLE_FEMALE_HH\"  |\"MARRIED_HH\"  |\"MALES_PER_100_FEMALES\"  |\"AGE_MEDIAN\"  |\"HH_MEDIAN_INCOME\"  |\"HH_MEAN_INCOME\"  |\"PERCENTAGE_BACH_OR_HIGHER\"  |\n",
            "-------------------------------------------------------------------------------------------------------------------------------------------------------------------------------------------------------------------------------------------------------------------------------------------------\n",
            "|lmgh720@gmail.com            |80122      |80122       |CENTENNIAL   |CO       |2.47                  |2.95               |0.1342509         |0.2312230           |0.5800236     |97.3                     |43.8          |116551              |147437            |0.4538389                    |\n",
            "|erinmckelveycasey@gmail.com  |80023      |80023       |BROOMFIELD   |CO       |2.69                  |3.08               |0.0912571         |0.1787894           |0.6614589     |95.4                     |41.1          |160212              |191133            |0.4512082                    |\n",
            "|akvist@me.com                |03785      |03785       |WOODSVILLE   |NH       |2.47                  |3.17               |0.2706027         |0.1955720           |0.4046740     |84.1                     |42.4          |57216               |72836             |0.1109564                    |\n",
            "|annisaboehm@gmail.com        |91740      |91740       |GLENDORA     |CA       |3.11                  |3.50               |0.1583462         |0.2384130           |0.5452163     |89.1                     |38.0          |96433               |117519            |0.2038627                    |\n",
            "|heygirlfriend7@gmail.com     |87110      |87110       |ALBUQUERQUE  |NM       |2.21                  |2.97               |0.2487853         |0.3015680           |0.3390018     |96.0                     |40.6          |61158               |80483             |0.2748490                    |\n",
            "-------------------------------------------------------------------------------------------------------------------------------------------------------------------------------------------------------------------------------------------------------------------------------------------------\n",
            "\n"
          ]
        }
      ],
      "source": [
        "# Load all feature tables\n",
        "subscription_features = session.table('analytics.analytics_inference.bimonthly_churn_features')\n",
        "demographic_features = session.table('analytics.analytics_inference.demographic_feature')\n",
        "shop_order_features = session.table('analytics.analytics_inference.shop_orders_churn_features')\n",
        "\n",
        "# Display sample data from each\n",
        "print(\"Subscription Features:\")\n",
        "subscription_features.show(5)\n",
        "\n",
        "print(\"\\nShop Order Features:\")\n",
        "shop_order_features.show(5)\n",
        "\n",
        "print(\"\\nDemographic Features:\")\n",
        "demographic_features.show(5)"
      ]
    },
    {
      "cell_type": "code",
      "execution_count": 14,
      "metadata": {},
      "outputs": [
        {
          "name": "stdout",
          "output_type": "stream",
          "text": [
            "Number of rows in final dataset: 123590\n",
            "--------------------------------------------------------------------------------------------------------------------------------------------------------------------------------------------------------------------------------------------------------------------------------------------------------------------------------------------------------------------------------------------------------------------------------------------------------------------------------\n",
            "|\"SNAPSHOT_WEEK\"  |\"SUBSCRIPTIONID\"                      |\"EMAIL\"                                             |\"CHURN_LABEL_14_DAY\"  |\"LIFETIME_DAY\"  |\"MALES_PER_100_FEMALES\"  |\"HH_MEAN_INCOME\"  |\"HH_MEDIAN_INCOME\"  |\"AGE_MEDIAN\"  |\"AVG_HOUSEHOLD_SIZE\"  |\"MARRIED_HH\"  |\"SINGLE_MALE_HH\"  |\"TOTAL_NET_REVENUE\"  |\"ORDER_COUNT\"  |\"DAYS_SINCE_LAST_ORDER\"  |\"PAID_SOCIAL\"  |\"PAID_SEARCH\"  |\"REFERRAL\"  |\"AFFILIATE\"  |\"ORGANIC_SOCIAL\"  |\"ORGANIC_SEARCH\"  |\"MAIN_SITE\"  |\n",
            "--------------------------------------------------------------------------------------------------------------------------------------------------------------------------------------------------------------------------------------------------------------------------------------------------------------------------------------------------------------------------------------------------------------------------------------------------------------------------------\n",
            "|2025-04-07       |1c8be995-05de-40ba-9525-b0bd92df2cf3  |00f1a9d5e0a8cb0c8e7e9bce003f2f751cdf4375fece7b2...  |0                     |71              |93.9                     |164393            |104205              |40.1          |2.12                  |0.3665280     |0.2178902         |127.4                |2              |10                       |0              |1              |0           |0            |0                 |0                 |0            |\n",
            "|2025-04-14       |1c8be995-05de-40ba-9525-b0bd92df2cf3  |00f1a9d5e0a8cb0c8e7e9bce003f2f751cdf4375fece7b2...  |0                     |78              |93.9                     |164393            |104205              |40.1          |2.12                  |0.3665280     |0.2178902         |127.4                |2              |17                       |0              |1              |0           |0            |0                 |0                 |0            |\n",
            "|2025-04-21       |1c8be995-05de-40ba-9525-b0bd92df2cf3  |00f1a9d5e0a8cb0c8e7e9bce003f2f751cdf4375fece7b2...  |0                     |85              |93.9                     |164393            |104205              |40.1          |2.12                  |0.3665280     |0.2178902         |127.4                |2              |24                       |0              |0              |0           |0            |0                 |0                 |0            |\n",
            "|2025-04-28       |1c8be995-05de-40ba-9525-b0bd92df2cf3  |00f1a9d5e0a8cb0c8e7e9bce003f2f751cdf4375fece7b2...  |0                     |92              |93.9                     |164393            |104205              |40.1          |2.12                  |0.3665280     |0.2178902         |127.4                |2              |31                       |0              |1              |0           |0            |0                 |0                 |0            |\n",
            "|2025-05-05       |1c8be995-05de-40ba-9525-b0bd92df2cf3  |00f1a9d5e0a8cb0c8e7e9bce003f2f751cdf4375fece7b2...  |0                     |99              |93.9                     |164393            |104205              |40.1          |2.12                  |0.3665280     |0.2178902         |127.4                |2              |38                       |0              |1              |0           |0            |0                 |0                 |0            |\n",
            "|2025-05-12       |1c8be995-05de-40ba-9525-b0bd92df2cf3  |00f1a9d5e0a8cb0c8e7e9bce003f2f751cdf4375fece7b2...  |0                     |106             |93.9                     |164393            |104205              |40.1          |2.12                  |0.3665280     |0.2178902         |127.4                |2              |45                       |0              |1              |0           |0            |0                 |0                 |0            |\n",
            "|2025-05-19       |1c8be995-05de-40ba-9525-b0bd92df2cf3  |00f1a9d5e0a8cb0c8e7e9bce003f2f751cdf4375fece7b2...  |0                     |113             |93.9                     |164393            |104205              |40.1          |2.12                  |0.3665280     |0.2178902         |127.4                |2              |52                       |0              |0              |0           |0            |0                 |0                 |0            |\n",
            "|2025-05-26       |1c8be995-05de-40ba-9525-b0bd92df2cf3  |00f1a9d5e0a8cb0c8e7e9bce003f2f751cdf4375fece7b2...  |0                     |120             |93.9                     |164393            |104205              |40.1          |2.12                  |0.3665280     |0.2178902         |127.4                |2              |59                       |0              |1              |0           |0            |0                 |0                 |0            |\n",
            "|2025-06-02       |1c8be995-05de-40ba-9525-b0bd92df2cf3  |00f1a9d5e0a8cb0c8e7e9bce003f2f751cdf4375fece7b2...  |0                     |127             |93.9                     |164393            |104205              |40.1          |2.12                  |0.3665280     |0.2178902         |176.4                |3              |6                        |0              |0              |0           |0            |0                 |0                 |0            |\n",
            "|2025-04-07       |08c576a4-7b5e-400b-ace9-81008134149f  |101rlw@gmail.com                                    |0                     |122             |85.2                     |111605            |92258               |57.0          |2.23                  |0.4953125     |0.2000000         |176.4                |3              |1                        |0              |0              |0           |0            |0                 |0                 |0            |\n",
            "--------------------------------------------------------------------------------------------------------------------------------------------------------------------------------------------------------------------------------------------------------------------------------------------------------------------------------------------------------------------------------------------------------------------------------------------------------------------------------\n",
            "\n"
          ]
        }
      ],
      "source": [
        "# Combine all features\n",
        "final_features = (\n",
        "    subscription_features\n",
        "    # Join with demographic features\n",
        "    .join(\n",
        "        demographic_features,\n",
        "        subscription_features['EMAIL'] == demographic_features['EMAIL'],\n",
        "        'left'\n",
        "    )\n",
        "    # Join with shop order features\n",
        "    .join(shop_order_features,\n",
        "    (subscription_features['EMAIL'] == shop_order_features['EMAIL']) &\n",
        "    (subscription_features['SNAPSHOT_WEEK'] == shop_order_features['snapshot_week']),\n",
        "    'left'\n",
        "    )\n",
        "    # Select final columns and handle any duplicates\n",
        "    .select(\n",
        "        # Subscription features\n",
        "        subscription_features['SNAPSHOT_WEEK'].alias('SNAPSHOT_WEEK'),\n",
        "        subscription_features['SUBSCRIPTIONID'],\n",
        "        subscription_features['EMAIL'].alias('EMAIL'),\n",
        "        \n",
        "        subscription_features['CHURN_LABEL_14_DAY'],\n",
        "\n",
        "        subscription_features['LIFETIME_DAY'],\n",
        "        \n",
        "        # Demographic features\n",
        "        f.coalesce(demographic_features['MALES_PER_100_FEMALES'], lit(-1)).alias('MALES_PER_100_FEMALES'),\n",
        "        f.coalesce(demographic_features['HH_MEAN_INCOME'], lit(-1)).alias('HH_MEAN_INCOME'),\n",
        "        f.coalesce(demographic_features['HH_MEDIAN_INCOME'], lit(-1)).alias('HH_MEDIAN_INCOME'),\n",
        "        f.coalesce(demographic_features['AGE_MEDIAN'], lit(-1)).alias('AGE_MEDIAN'),\n",
        "        f.coalesce(demographic_features['AVG_HOUSEHOLD_SIZE'], lit(-1)).alias('AVG_HOUSEHOLD_SIZE'),\n",
        "        f.coalesce(demographic_features['MARRIED_HH'], lit(-1)).alias('MARRIED_HH'),\n",
        "        f.coalesce(demographic_features['SINGLE_MALE_HH'], lit(-1)).alias('SINGLE_MALE_HH'),\n",
        "  \n",
        "        \n",
        "        # Shop order features\n",
        "        f.coalesce(shop_order_features['total_net_revenue'], lit(-1)).alias('total_net_revenue'),\n",
        "        f.coalesce(shop_order_features['order_count'], lit(-1)).alias('order_count'),\n",
        "        f.coalesce(shop_order_features['days_since_last_order'], lit(-1)).alias('days_since_last_order'),\n",
        "\n",
        "        # Channel features\n",
        "        f.coalesce(shop_order_features['paid_social'], lit(-1)).alias('paid_social'),\n",
        "        f.coalesce(shop_order_features['paid_search'], lit(-1)).alias('paid_search'),\n",
        "        f.coalesce(shop_order_features['referral'], lit(-1)).alias('referral'),\n",
        "        f.coalesce(shop_order_features['affiliate'], lit(-1)).alias('affiliate'),\n",
        "        f.coalesce(shop_order_features['organic_social'], lit(-1)).alias('organic_social'),\n",
        "        f.coalesce(shop_order_features['organic_search'], lit(-1)).alias('organic_search'),\n",
        "        f.coalesce(shop_order_features['main_site'], lit(-1)).alias('main_site'),\n",
        "    )\n",
        ")\n",
        "\n",
        "\n",
        "final_features = final_features.sort(['EMAIL','SUBSCRIPTIONID','SNAPSHOT_WEEK'])\n",
        "\n",
        "\n",
        "# Show the combined features\n",
        "print(\"Number of rows in final dataset:\", final_features.count())\n",
        "final_features.show()\n"
      ]
    },
    {
      "cell_type": "markdown",
      "metadata": {},
      "source": []
    },
    {
      "cell_type": "code",
      "execution_count": 15,
      "metadata": {},
      "outputs": [
        {
          "name": "stdout",
          "output_type": "stream",
          "text": [
            "Saved features verification:\n",
            "----------------------------------------------------------------------------------------------------------------------------------------------------------------------------------------------------------------------------------------------------------------------------------------------------------------------------------------------------------------------------------------------------------------------------------------------------\n",
            "|\"SNAPSHOT_WEEK\"  |\"SUBSCRIPTIONID\"                      |\"EMAIL\"                 |\"CHURN_LABEL_14_DAY\"  |\"LIFETIME_DAY\"  |\"MALES_PER_100_FEMALES\"  |\"HH_MEAN_INCOME\"  |\"HH_MEDIAN_INCOME\"  |\"AGE_MEDIAN\"  |\"AVG_HOUSEHOLD_SIZE\"  |\"MARRIED_HH\"  |\"SINGLE_MALE_HH\"  |\"TOTAL_NET_REVENUE\"  |\"ORDER_COUNT\"  |\"DAYS_SINCE_LAST_ORDER\"  |\"PAID_SOCIAL\"  |\"PAID_SEARCH\"  |\"REFERRAL\"  |\"AFFILIATE\"  |\"ORGANIC_SOCIAL\"  |\"ORGANIC_SEARCH\"  |\"MAIN_SITE\"  |\n",
            "----------------------------------------------------------------------------------------------------------------------------------------------------------------------------------------------------------------------------------------------------------------------------------------------------------------------------------------------------------------------------------------------------------------------------------------------------\n",
            "|2025-04-21       |7be3d90d-3841-4225-83e5-29a8b6aa40aa  |kdpoodry@yahoo.com      |0                     |23              |-1.0                     |-1                |-1                  |-1.0          |-1.00                 |-1.0000000    |-1.0000000        |49.0                 |1              |23                       |0              |0              |0           |0            |0                 |0                 |0            |\n",
            "|2025-04-28       |7be3d90d-3841-4225-83e5-29a8b6aa40aa  |kdpoodry@yahoo.com      |0                     |30              |-1.0                     |-1                |-1                  |-1.0          |-1.00                 |-1.0000000    |-1.0000000        |49.0                 |1              |30                       |0              |0              |0           |0            |0                 |0                 |0            |\n",
            "|2025-05-05       |7be3d90d-3841-4225-83e5-29a8b6aa40aa  |kdpoodry@yahoo.com      |0                     |37              |-1.0                     |-1                |-1                  |-1.0          |-1.00                 |-1.0000000    |-1.0000000        |49.0                 |1              |37                       |0              |0              |0           |0            |0                 |0                 |0            |\n",
            "|2025-05-12       |7be3d90d-3841-4225-83e5-29a8b6aa40aa  |kdpoodry@yahoo.com      |1                     |44              |-1.0                     |-1                |-1                  |-1.0          |-1.00                 |-1.0000000    |-1.0000000        |49.0                 |1              |44                       |0              |0              |0           |0            |0                 |0                 |0            |\n",
            "|2025-05-19       |7be3d90d-3841-4225-83e5-29a8b6aa40aa  |kdpoodry@yahoo.com      |1                     |51              |-1.0                     |-1                |-1                  |-1.0          |-1.00                 |-1.0000000    |-1.0000000        |49.0                 |1              |51                       |0              |0              |0           |0            |0                 |0                 |0            |\n",
            "|2025-06-02       |f996b218-a4cf-490e-8c3b-915f59944773  |kdvrn01@gmail.com       |0                     |7               |91.6                     |123351            |71352               |35.8          |2.44                  |0.5029753     |0.1606652         |313.27               |3              |7                        |0              |0              |1           |0            |0                 |0                 |0            |\n",
            "|2025-04-07       |912bae12-850f-4d4e-a0d4-fbcbcd569935  |kealy.howard@gmail.com  |0                     |85              |92.9                     |137848            |90050               |35.7          |2.25                  |0.4006372     |0.1765700         |436.1                |5              |11                       |0              |0              |0           |0            |0                 |0                 |0            |\n",
            "|2025-04-14       |912bae12-850f-4d4e-a0d4-fbcbcd569935  |kealy.howard@gmail.com  |0                     |92              |92.9                     |137848            |90050               |35.7          |2.25                  |0.4006372     |0.1765700         |485.1                |6              |4                        |0              |0              |0           |0            |0                 |0                 |0            |\n",
            "|2025-04-21       |912bae12-850f-4d4e-a0d4-fbcbcd569935  |kealy.howard@gmail.com  |0                     |99              |92.9                     |137848            |90050               |35.7          |2.25                  |0.4006372     |0.1765700         |485.1                |6              |11                       |0              |0              |0           |0            |0                 |0                 |0            |\n",
            "|2025-04-28       |912bae12-850f-4d4e-a0d4-fbcbcd569935  |kealy.howard@gmail.com  |0                     |106             |92.9                     |137848            |90050               |35.7          |2.25                  |0.4006372     |0.1765700         |485.1                |6              |18                       |0              |0              |0           |0            |0                 |0                 |0            |\n",
            "----------------------------------------------------------------------------------------------------------------------------------------------------------------------------------------------------------------------------------------------------------------------------------------------------------------------------------------------------------------------------------------------------------------------------------------------------\n",
            "\n"
          ]
        }
      ],
      "source": [
        "# Save the final feature set to Snowflake\n",
        "final_features.write.mode('overwrite').save_as_table('analytics.analytics_inference.bimonthly_ml_features')\n",
        "\n",
        "# Verify the saved data\n",
        "print(\"Saved features verification:\")\n",
        "session.table('analytics.analytics_inference.bimonthly_ml_features').show()\n"
      ]
    },
    {
      "cell_type": "code",
      "execution_count": 16,
      "metadata": {},
      "outputs": [
        {
          "data": {
            "text/plain": [
              "['SNAPSHOT_WEEK',\n",
              " 'SUBSCRIPTIONID',\n",
              " 'EMAIL',\n",
              " 'CHURN_LABEL_14_DAY',\n",
              " 'LIFETIME_DAY',\n",
              " 'MALES_PER_100_FEMALES',\n",
              " 'HH_MEAN_INCOME',\n",
              " 'HH_MEDIAN_INCOME',\n",
              " 'AGE_MEDIAN',\n",
              " 'AVG_HOUSEHOLD_SIZE',\n",
              " 'MARRIED_HH',\n",
              " 'SINGLE_MALE_HH',\n",
              " 'TOTAL_NET_REVENUE',\n",
              " 'ORDER_COUNT',\n",
              " 'DAYS_SINCE_LAST_ORDER',\n",
              " 'PAID_SOCIAL',\n",
              " 'PAID_SEARCH',\n",
              " 'REFERRAL',\n",
              " 'AFFILIATE',\n",
              " 'ORGANIC_SOCIAL',\n",
              " 'ORGANIC_SEARCH',\n",
              " 'MAIN_SITE']"
            ]
          },
          "execution_count": 16,
          "metadata": {},
          "output_type": "execute_result"
        }
      ],
      "source": [
        "final_features.columns"
      ]
    }
  ],
  "metadata": {
    "kernelspec": {
      "display_name": ".venv",
      "language": "python",
      "name": "python3"
    },
    "language_info": {
      "codemirror_mode": {
        "name": "ipython",
        "version": 3
      },
      "file_extension": ".py",
      "mimetype": "text/x-python",
      "name": "python",
      "nbconvert_exporter": "python",
      "pygments_lexer": "ipython3",
      "version": "3.9.6"
    }
  },
  "nbformat": 4,
  "nbformat_minor": 2
}
