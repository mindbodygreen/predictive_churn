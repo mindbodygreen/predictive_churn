{
  "cells": [
    {
      "cell_type": "code",
      "execution_count": null,
      "metadata": {},
      "outputs": [],
      "source": [
        "# Add src directory to Python path\n",
        "import sys\n",
        "import os\n",
        "sys.path.append(os.path.abspath('../src'))\n",
        "\n",
        "from data_loader import get_snowflake_session\n",
        "\n",
        "# Get Snowflake session\n",
        "session = get_snowflake_session()\n"
      ]
    },
    {
      "cell_type": "code",
      "execution_count": null,
      "metadata": {},
      "outputs": [],
      "source": [
        "# Import required libraries\n",
        "import pandas as pd\n",
        "from datetime import date, timedelta\n",
        "\n",
        "from snowflake.snowpark.functions import date_trunc, current_date\n",
        "from snowflake.snowpark.functions import col, lit, when\n",
        "from snowflake.snowpark.types import DateType\n",
        "import snowflake.snowpark.functions as f\n"
      ]
    },
    {
      "cell_type": "code",
      "execution_count": null,
      "metadata": {},
      "outputs": [],
      "source": [
        "# Load all feature tables\n",
        "subscription_features = session.table('analytics.analytics_inference.bimonthly_churn_features')\n",
        "demographic_features = session.table('analytics.analytics_inference.demographic_feature')\n",
        "shop_order_features = session.table('analytics.analytics_inference.shop_order_features')\n",
        "\n",
        "# Display sample data from each\n",
        "print(\"Subscription Features:\")\n",
        "subscription_features.show(5)\n",
        "print(\"\\nDemographic Features:\")\n",
        "demographic_features.show(5)\n",
        "print(\"\\nShop Order Features:\")\n",
        "shop_order_features.show(5)\n"
      ]
    },
    {
      "cell_type": "code",
      "execution_count": null,
      "metadata": {},
      "outputs": [],
      "source": [
        "# Combine all features\n",
        "final_features = (\n",
        "    subscription_features\n",
        "    # Join with demographic features\n",
        "    .join(\n",
        "        demographic_features,\n",
        "        subscription_features['EMAIL'] == demographic_features['EMAIL'],\n",
        "        'left'\n",
        "    )\n",
        "    # Join with shop order features\n",
        "    .join(\n",
        "        shop_order_features,\n",
        "        [subscription_features['EMAIL'] == shop_order_features['EMAIL'],\n",
        "         subscription_features['SNAPSHOT_WEEK'] == shop_order_features['snapshot_week']],\n",
        "        'left'\n",
        "    )\n",
        "    # Select final columns and handle any duplicates\n",
        "    .select(\n",
        "        # Subscription features\n",
        "        subscription_features['SNAPSHOT_WEEK'],\n",
        "        subscription_features['SUBSCRIPTIONID'],\n",
        "        subscription_features['EMAIL'],\n",
        "        subscription_features['LIFETIME'],\n",
        "        subscription_features['LIFETIME_DAY'],\n",
        "        subscription_features['CHURN_LABEL_14_DAY'],\n",
        "        \n",
        "        # Demographic features\n",
        "        demographic_features['MALES_PER_100_FEMALES'],\n",
        "        demographic_features['HH_MEAN_INCOME'],\n",
        "        demographic_features['HH_MEDIAN_INCOME'],\n",
        "        demographic_features['AGE_MEDIAN'],\n",
        "        \n",
        "        # Shop order features\n",
        "        f.coalesce(shop_order_features['total_net_revenue'], lit(0)).alias('total_net_revenue'),\n",
        "        f.coalesce(shop_order_features['order_count'], lit(0)).alias('order_count')\n",
        "    )\n",
        ")\n",
        "\n",
        "# Show the combined features\n",
        "print(\"Number of rows in final dataset:\", final_features.count())\n",
        "final_features.show()\n"
      ]
    },
    {
      "cell_type": "code",
      "execution_count": null,
      "metadata": {},
      "outputs": [],
      "source": [
        "# Save the final feature set to Snowflake\n",
        "final_features.write.mode('overwrite').save_as_table('analytics.analytics_inference.bimonthly_ml_features')\n",
        "\n",
        "# Verify the saved data\n",
        "print(\"Saved features verification:\")\n",
        "session.table('analytics.analytics_inference.bimonthly_ml_features').show()\n"
      ]
    }
  ],
  "metadata": {
    "language_info": {
      "name": "python"
    }
  },
  "nbformat": 4,
  "nbformat_minor": 2
}
