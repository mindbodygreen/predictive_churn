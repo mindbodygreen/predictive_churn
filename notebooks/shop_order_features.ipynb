{
  "cells": [
    {
      "cell_type": "code",
      "execution_count": 7,
      "metadata": {},
      "outputs": [],
      "source": [
        "# Add src directory to Python path\n",
        "import sys\n",
        "import os\n",
        "from datetime import date, timedelta\n",
        "import pandas as pd\n",
        "import importlib\n",
        "\n",
        "\n",
        "sys.path.append(os.path.abspath('../src'))\n",
        "\n",
        "import SnowflakeConnector\n",
        "importlib.reload(SnowflakeConnector)\n",
        "\n",
        "\n",
        "\n",
        "from SnowflakeConnector import create_active_session\n",
        "\n",
        "from snowflake.snowpark.functions import date_trunc, current_date\n",
        "from snowflake.snowpark.functions import col, lit, when\n",
        "from snowflake.snowpark.types import DateType\n",
        "import snowflake.snowpark.functions as f\n",
        "\n",
        "# Get Snowflake session\n",
        "session = create_active_session()\n"
      ]
    },
    {
      "cell_type": "code",
      "execution_count": 8,
      "metadata": {},
      "outputs": [
        {
          "data": {
            "text/plain": [
              "datetime.date(2025, 4, 7)"
            ]
          },
          "execution_count": 8,
          "metadata": {},
          "output_type": "execute_result"
        }
      ],
      "source": [
        "today = date.today()\n",
        "this_monday = today - timedelta(days=today.weekday())\n",
        "mondays = [this_monday - timedelta(weeks=i+1) for i in range(9)]\n",
        "\n",
        "snapshot_week = date(2025, 5, 19)  # or however you're setting it\n",
        "week_plus_14 = snapshot_week + timedelta(days=14)\n",
        "\n",
        "\n",
        "mondays[8]\n"
      ]
    },
    {
      "cell_type": "code",
      "execution_count": 9,
      "metadata": {},
      "outputs": [
        {
          "name": "stdout",
          "output_type": "stream",
          "text": [
            "-----------------------------------------------------------------------------------------------------------------------------------------------------\n",
            "|\"ORDER_COMPLETED_DATE\"  |\"EMAIL\"                     |\"ORDER_ID\"     |\"CHANNEL\"          |\"TOTAL_NET_REVENUE\"  |\"CUST_ORDER_SEQ\"  |\"CUST_SUB_SEQ\"  |\n",
            "-----------------------------------------------------------------------------------------------------------------------------------------------------\n",
            "|2025-04-06              |jeff.joan@comcast.net       |6544401694825  |Paid Social        |58.5                 |1                 |NULL            |\n",
            "|2025-02-22              |melisa-argoitia@live.com    |6465531969641  |Paid Search        |390.0                |1                 |NULL            |\n",
            "|2025-03-27              |clmargart@gmail.com         |6525595877481  |Paid Social        |198.0                |1                 |1               |\n",
            "|2024-09-04              |jcmccarter@gmail.com        |6163922583657  |Organic Search     |92.65                |1                 |1               |\n",
            "|2025-03-04              |jcmccarter@gmail.com        |6482420203625  |Non-Site Activity  |109.0                |2                 |2               |\n",
            "|2025-06-01              |kathleens@sheaconcrete.com  |6655341101161  |Paid Social        |44.1                 |1                 |1               |\n",
            "|2024-07-06              |zhenzhulung@gmail.com       |6044653453417  |Organic Search     |224.0                |7                 |NULL            |\n",
            "|2025-03-11              |kelleymcree@gmail.com       |6494932500585  |Email              |364.89               |1                 |1               |\n",
            "|2025-04-21              |kelleymcree@gmail.com       |6571412160617  |Non-Site Activity  |49.0                 |2                 |2               |\n",
            "|2025-05-21              |kelleymcree@gmail.com       |6632097972329  |Non-Site Activity  |49.0                 |3                 |3               |\n",
            "-----------------------------------------------------------------------------------------------------------------------------------------------------\n",
            "\n"
          ]
        }
      ],
      "source": [
        "### Load and filter shop orders data \n",
        "\n",
        "\n",
        "bimonthly_churn_features = session.table(\"analytics.analytics_inference.bimonthly_churn_features\").\\\n",
        "    select(\n",
        "        col('EMAIL').alias('email')\n",
        "    ).distinct()\n",
        "\n",
        "shop_orders = session.table(\"analytics.analytics.shop_orders_with_attribution\").\\\n",
        "    where(col('EMAIL').isin(bimonthly_churn_features['EMAIL'])).\\\n",
        "    where(col('ORDER_COMPLETED_DATE')>lit('2024-03-11')).\\\n",
        "    select(\n",
        "        col('ORDER_COMPLETED_DATE').alias('order_completed_date'),\n",
        "        col('EMAIL').alias('email'),\n",
        "        col('ORDER_ID').alias('order_id'),\n",
        "        col(\"CHANNEL\").alias('channel'),\n",
        "        col('TOTAL_NET_REVENUE').alias('total_net_revenue'),\n",
        "        col(\"CUST_ORDER_SEQ\").alias('cust_order_seq'),\n",
        "        col(\"CUST_SUB_SEQ\").alias('cust_sub_seq'),\n",
        "\n",
        "    )\n",
        "\n",
        "# Display sample data\n",
        "shop_orders.show()\n"
      ]
    },
    {
      "cell_type": "code",
      "execution_count": 10,
      "metadata": {},
      "outputs": [],
      "source": [
        "def build_orders_snapshot (df, snapshot_week) :\n",
        "\n",
        "    orders_snapshot = (\n",
        "        df.where(col(\"ORDER_COMPLETED_DATE\")<snapshot_week).\\\n",
        "        group_by(col(\"EMAIL\")).agg(\n",
        "            f.sum(col(\"TOTAL_NET_REVENUE\")).alias(\"total_net_revenue\"),\n",
        "            f.count_distinct(col(\"ORDER_ID\")).alias(\"order_count\"),\n",
        "            f.datediff('day', f.max(col(\"ORDER_COMPLETED_DATE\")), lit(snapshot_week)).alias(\"days_since_last_order\"),\n",
        "            f.mode(col(\"CHANNEL\")).alias(\"PREFERRED_CHANNEL\"),\n",
        "      \n",
        "        )\n",
        "        .select(\n",
        "            lit(snapshot_week).alias(\"snapshot_week\"),\n",
        "            col(\"EMAIL\"),\n",
        "            f.round(col(\"total_net_revenue\"), 2).alias(\"total_net_revenue\"),\n",
        "            col(\"order_count\"),\n",
        "            col(\"days_since_last_order\"),\n",
        "            col(\"PREFERRED_CHANNEL\"),\n",
        "            when(col('PREFERRED_CHANNEL') == 'Paid Social', 1).otherwise(0).alias('paid_social'),\n",
        "            when(col('PREFERRED_CHANNEL') == 'Paid Search', 1).otherwise(0).alias('paid_search'),\n",
        "            when(col('PREFERRED_CHANNEL') == 'Referral', 1).otherwise(0).alias('referral'),\n",
        "            when(col('PREFERRED_CHANNEL') == 'Affiliate', 1).otherwise(0).alias('affiliate'),\n",
        "            when(col('PREFERRED_CHANNEL') == 'Organic Social', 1).otherwise(0).alias('organic_social'),\n",
        "            when(col('PREFERRED_CHANNEL') == 'Organic Search ', 1).otherwise(0).alias('organic_search'),\n",
        "            when(col('PREFERRED_CHANNEL') == 'Main Site', 1).otherwise(0).alias('main_site'),\n",
        "            when(col('PREFERRED_CHANNEL') == 'Content', 1).otherwise(0).alias('content'),\n",
        "\n",
        "        )\n",
        "\n",
        "    )\n",
        "    return orders_snapshot"
      ]
    },
    {
      "cell_type": "code",
      "execution_count": 11,
      "metadata": {},
      "outputs": [
        {
          "name": "stdout",
          "output_type": "stream",
          "text": [
            "Week Completed : 2025-06-02, Active: 147331\n",
            "Week Completed : 2025-05-26, Active: 145237\n",
            "Week Completed : 2025-05-19, Active: 143237\n",
            "Week Completed : 2025-05-12, Active: 141223\n",
            "Week Completed : 2025-05-05, Active: 138467\n",
            "Week Completed : 2025-04-28, Active: 135578\n",
            "Week Completed : 2025-04-21, Active: 132477\n",
            "Week Completed : 2025-04-14, Active: 129744\n",
            "Week Completed : 2025-04-07, Active: 127286\n"
          ]
        }
      ],
      "source": [
        "all_snapshots = None\n",
        "\n",
        "for week in mondays:\n",
        "    snapshot = build_orders_snapshot(shop_orders, week)\n",
        "    all_snapshots = snapshot if all_snapshots is None else all_snapshots.union(snapshot)\n",
        "\n",
        "    active = snapshot.agg(f.count_distinct(col('EMAIL')).alias('EMAIL')).first()[0]\n",
        "    print(f\"Week Completed : {week}, Active: {active}\")\n",
        "\n",
        "all_snapshots= all_snapshots.sort(['EMAIL', 'SNAPSHOT_WEEK'])"
      ]
    },
    {
      "cell_type": "code",
      "execution_count": 12,
      "metadata": {},
      "outputs": [
        {
          "name": "stdout",
          "output_type": "stream",
          "text": [
            "-----------------------------------------------------------------------------------------------------------------------------------------------------------------------------------------------------------------------------------------------------------------------------------------\n",
            "|\"SNAPSHOT_WEEK\"  |\"EMAIL\"                                             |\"TOTAL_NET_REVENUE\"  |\"ORDER_COUNT\"  |\"DAYS_SINCE_LAST_ORDER\"  |\"PREFERRED_CHANNEL\"  |\"PAID_SOCIAL\"  |\"PAID_SEARCH\"  |\"REFERRAL\"  |\"AFFILIATE\"  |\"ORGANIC_SOCIAL\"  |\"ORGANIC_SEARCH\"  |\"MAIN_SITE\"  |\"CONTENT\"  |\n",
            "-----------------------------------------------------------------------------------------------------------------------------------------------------------------------------------------------------------------------------------------------------------------------------------------\n",
            "|2025-05-12       |0.minder-detente@icloud.com                         |198.0                |2              |2                        |Content              |0              |0              |0           |0            |0                 |0                 |0            |1          |\n",
            "|2025-05-19       |0.minder-detente@icloud.com                         |198.0                |2              |9                        |Non-Site Activity    |0              |0              |0           |0            |0                 |0                 |0            |0          |\n",
            "|2025-05-26       |0.minder-detente@icloud.com                         |198.0                |2              |16                       |Content              |0              |0              |0           |0            |0                 |0                 |0            |1          |\n",
            "|2025-06-02       |0.minder-detente@icloud.com                         |198.0                |2              |23                       |Content              |0              |0              |0           |0            |0                 |0                 |0            |1          |\n",
            "|2025-04-07       |00f1a9d5e0a8cb0c8e7e9bce003f2f751cdf4375fece7b2...  |127.4                |2              |10                       |Paid Search          |0              |1              |0           |0            |0                 |0                 |0            |0          |\n",
            "|2025-04-14       |00f1a9d5e0a8cb0c8e7e9bce003f2f751cdf4375fece7b2...  |127.4                |2              |17                       |Non-Site Activity    |0              |0              |0           |0            |0                 |0                 |0            |0          |\n",
            "|2025-04-21       |00f1a9d5e0a8cb0c8e7e9bce003f2f751cdf4375fece7b2...  |127.4                |2              |24                       |Non-Site Activity    |0              |0              |0           |0            |0                 |0                 |0            |0          |\n",
            "|2025-04-28       |00f1a9d5e0a8cb0c8e7e9bce003f2f751cdf4375fece7b2...  |127.4                |2              |31                       |Non-Site Activity    |0              |0              |0           |0            |0                 |0                 |0            |0          |\n",
            "|2025-05-05       |00f1a9d5e0a8cb0c8e7e9bce003f2f751cdf4375fece7b2...  |127.4                |2              |38                       |Paid Search          |0              |1              |0           |0            |0                 |0                 |0            |0          |\n",
            "|2025-05-12       |00f1a9d5e0a8cb0c8e7e9bce003f2f751cdf4375fece7b2...  |127.4                |2              |45                       |Non-Site Activity    |0              |0              |0           |0            |0                 |0                 |0            |0          |\n",
            "-----------------------------------------------------------------------------------------------------------------------------------------------------------------------------------------------------------------------------------------------------------------------------------------\n",
            "\n"
          ]
        }
      ],
      "source": [
        "all_snapshots.where(col(\"order_count\")>1).show()"
      ]
    },
    {
      "cell_type": "code",
      "execution_count": 13,
      "metadata": {},
      "outputs": [],
      "source": [
        "all_snapshots.\\\n",
        "        write.mode('overwrite') \\\n",
        "        .save_as_table('analytics.analytics_inference.shop_orders_churn_features')"
      ]
    },
    {
      "cell_type": "code",
      "execution_count": 43,
      "metadata": {},
      "outputs": [
        {
          "name": "stdout",
          "output_type": "stream",
          "text": [
            "------------------------------------------------------------------------------------------------------------------------------------------------------------------------------------------------------------------------------------\n",
            "|\"SNAPSHOT_WEEK\"  |\"EMAIL\"                    |\"TOTAL_NET_REVENUE\"  |\"ORDER_COUNT\"  |\"DAYS_SINCE_LAST_ORDER\"  |\"PREFERRED_CHANNEL\"  |\"PAID_SOCIAL\"  |\"REFERRAL\"  |\"AFFILIATE\"  |\"ORGANIC_SOCIAL\"  |\"ORGANIC_SEARCH\"  |\"MAIN_SITE\"  |\n",
            "------------------------------------------------------------------------------------------------------------------------------------------------------------------------------------------------------------------------------------\n",
            "|2025-04-07       |lisabenjamin007@gmail.com  |59.4                 |1              |61                       |Paid Social          |1              |0           |0            |0                 |0                 |0            |\n",
            "|2025-04-07       |nancycharbonneau@me.com    |270.3                |1              |49                       |Email                |0              |0           |0            |0                 |0                 |0            |\n",
            "|2025-04-07       |mrsoliveira2002@gmail.com  |58.5                 |1              |17                       |Referral             |0              |1           |0            |0                 |0                 |0            |\n",
            "|2025-04-07       |angela.sturm1@gmail.com    |98.0                 |2              |29                       |Non-Site Activity    |0              |0           |0            |0                 |0                 |0            |\n",
            "|2025-04-07       |lxqrqmb99@hotmail.com      |0.0                  |1              |312                      |Affiliate            |0              |0           |1            |0                 |0                 |0            |\n",
            "|2025-04-07       |mgluvssoccer@gmail.com     |224.0                |1              |116                      |Paid Social          |1              |0           |0            |0                 |0                 |0            |\n",
            "|2025-04-07       |amandasudano@gmail.com     |26.0                 |1              |69                       |Shop Site            |0              |0           |0            |0                 |0                 |0            |\n",
            "|2025-04-07       |Shelly@ShellyWatne.com     |299.0                |1              |117                      |Organic Search       |0              |0           |0            |0                 |0                 |0            |\n",
            "|2025-04-07       |shellkern5@aol.com         |150.0                |1              |299                      |Direct               |0              |0           |0            |0                 |0                 |0            |\n",
            "|2025-04-07       |3rjbbrown@gmail.com        |48.6                 |1              |243                      |Paid Social          |1              |0           |0            |0                 |0                 |0            |\n",
            "------------------------------------------------------------------------------------------------------------------------------------------------------------------------------------------------------------------------------------\n",
            "\n"
          ]
        }
      ],
      "source": [
        "snapshot_week = mondays[8]\n",
        "\n",
        "orders_snapshot = build_orders_snapshot (shop_orders, snapshot_week) \n",
        "\n",
        "orders_snapshot.show()"
      ]
    },
    {
      "cell_type": "code",
      "execution_count": 39,
      "metadata": {},
      "outputs": [
        {
          "name": "stdout",
          "output_type": "stream",
          "text": [
            "-------------------------\n",
            "|\"PREFERRED_CHANNEL\"    |\n",
            "-------------------------\n",
            "|Main Site              |\n",
            "|Referral               |\n",
            "|Organic Social         |\n",
            "|Paid Social            |\n",
            "|Fondue                 |\n",
            "|Organic Search - Bing  |\n",
            "|Affiliate              |\n",
            "|Shop Site              |\n",
            "|Other                  |\n",
            "|Organic Search         |\n",
            "-------------------------\n",
            "\n"
          ]
        }
      ],
      "source": [
        "orders_snapshot.select(\"PREFERRED_CHANNEL\").distinct().show()"
      ]
    }
  ],
  "metadata": {
    "kernelspec": {
      "display_name": ".venv",
      "language": "python",
      "name": "python3"
    },
    "language_info": {
      "codemirror_mode": {
        "name": "ipython",
        "version": 3
      },
      "file_extension": ".py",
      "mimetype": "text/x-python",
      "name": "python",
      "nbconvert_exporter": "python",
      "pygments_lexer": "ipython3",
      "version": "3.9.6"
    }
  },
  "nbformat": 4,
  "nbformat_minor": 2
}
